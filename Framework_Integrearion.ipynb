{
 "cells": [
  {
   "cell_type": "markdown",
   "metadata": {},
   "source": [
    "# OpenVINO™ Integration with TensorFlow Object Detection \n",
    "\n",
    "## OpenVINO version check:\n",
    "You are currently using the latest development version of Intel® Distribution of OpenVINO™ Toolkit. \n"
   ]
  },
  {
   "cell_type": "markdown",
   "metadata": {},
   "source": [
    "## Prerequisites\n",
    "This sample requires the following:\n",
    "- All files are present and in the following directory structure:\n",
    "    \n",
    "    - **object_detection.ipynb** - This Jupyter* Notebook\n",
    "    - **object_detection_sample_video_image.py** - Python* code for TensorFlow object detection\n",
    "    - **object_detection_demo.py** - Python* code for OpenVINO object detection\n",
    "    - **labels.txt** - Mapping of numerical labels to text strings\n",
    "    - **../data/grace_hopper.jpg** - Test image\n",
    "    - **convert_yolov4.sh** - Downloading the TensorFlow Yolo model\n",
    "\n",
    "     \n",
    "\n",
    "It is recommended that you have already read the following from [Get Started on the Intel® DevCloud for the Edge](https://www.intel.com/content/www/us/en/developer/tools/devcloud/edge/overview.html):\n",
    "- [Overview of the Intel® DevCloud for the Edge](https://www.intel.com/content/www/us/en/developer/tools/devcloud/edge/overview.html)\n",
    "- [Overview of the Intel® Distribution of OpenVINO™ toolkit](https://www.intel.com/content/www/us/en/developer/tools/devcloud/edge/learn/openvino.html)\n",
    "- [Overview of the OpenVINO™ integration with TensorFlow](https://github.com/openvinotoolkit/openvino_tensorflow)\n",
    "\n",
    "<br><div class=note><i><b>Note: </b>It is assumed that the server this sample is being run on is on the Intel® DevCloud for the Edge which has Jupyter* Notebook customizations and all the required libraries already installed.  If you download or copy to a new server, this sample may not run.</i></div>\n"
   ]
  },
  {
   "cell_type": "markdown",
   "metadata": {},
   "source": [
    "## Introduction\n",
    "\n",
    "This is a sample to showcase object detection in images/videos using YoloV4 TensorFlow Model using TensorFlow 2.x APIs. This is to showcase the performance and inference results using stock TensorFlow (Intel® CPUs), TensorFlow with OneDNN optimizations (Intel® CPUs), OpenVINO Integration with TensorFlow (Intel® CPUs and Accelerators) and OpenVINO Native(Intel® CPUs and Accelerators).\n",
    "Accelerators refer to:\n",
    "* Intel® integrated GPUs\n",
    "* Intel® Neural Compute Stick with Movidius™ Vision Processing Units - referred as NCS2\n",
    "* Intel® Vision Accelerator Design with 8 Intel Movidius™ MyriadX VPUs - referred as VAD-M or HDDL\n",
    "\n",
    "At start-up the sample application reads command line arguments in to specify a target device which will be used during runtime to schedule inference on. Next, we load an TensorFlow model to be passed to TensorFlow, OpenVINO integration with TensorFlow that allow you to run inference on Intel hardware. \n",
    "\n",
    "A job is submitted to a device (Intel® Core CPU, Intel® HD Graphics GPU, Intel® Neural Compute Stick 2, Intel® VAD-M.). After the inference is completed, the output detections along with inference performance results are appropriately displayed within the Jupyter Notebook instance.\n",
    "\n",
    "### Key concepts\n",
    "This sample application includes an example for the following:\n",
    "- Application demonstrates:\n",
    "   - Stock TensorFlow with image/video input and object detection model on CPU\n",
    "   - OpenVINO Integration with TensorFlow with image/video input and object detection model on CPU, iGPU, NCS2, VAD-M\n",
    "   - Visualization of the images along with labels\n",
    "   - Telemetry\n",
    "   - Performance Comparison\n",
    "- Intel® DevCloud for the Edge:\n",
    "  - Submitting inference as jobs that are performed on different edge compute nodes (rather than on the development node hosting this Jupyter* notebook)\n",
    "  - Monitoring job status\n",
    "  - Viewing results and assessing performance for hardware on different compute nodes"
   ]
  },
  {
   "cell_type": "markdown",
   "metadata": {},
   "source": [
    "#### Model Downloader\n",
    "* This downloads the yolov4 tensorflow model"
   ]
  },
  {
   "cell_type": "code",
   "execution_count": 1,
   "metadata": {},
   "outputs": [],
   "source": [
    "!source convert_yolov4.sh &>/dev/null"
   ]
  },
  {
   "cell_type": "markdown",
   "metadata": {},
   "source": [
    "#### Import Python packages\n",
    "\n"
   ]
  },
  {
   "cell_type": "code",
   "execution_count": 2,
   "metadata": {},
   "outputs": [
    {
     "name": "stderr",
     "output_type": "stream",
     "text": [
      "2022-06-21 20:59:01.071884: I tensorflow/core/util/util.cc:159] Experimental oneDNN custom operations are on. To turn them off, set the environment variable `TF_ENABLE_ONEDNN_OPTS=0`.\n"
     ]
    }
   ],
   "source": [
    "from __future__ import absolute_import\n",
    "from __future__ import division\n",
    "from __future__ import print_function\n",
    "\n",
    "import os\n",
    "# Enable these variables for runtime inference optimizations\n",
    "os.environ[\"OPENVINO_TF_CONVERT_VARIABLES_TO_CONSTANTS\"] = \"1\"\n",
    "os.environ[\n",
    "    \"TF_ENABLE_ONEDNN_OPTS\"] = \"1\"\n",
    "import argparse\n",
    "import numpy as np\n",
    "import tensorflow as tf\n",
    "import openvino_tensorflow as ovtf\n",
    "import time\n",
    "import cv2\n",
    "from PIL import Image as Img\n",
    "import matplotlib.pyplot as plt\n",
    "from qarpo.demoutils import *\n",
    "from qarpo.model_visualizer_link import *\n",
    "\n",
    "import sys\n",
    "sys.path.append(\"../\")\n",
    "from common.utils import get_input_mode, get_colors, draw_boxes, get_anchors, rename_file\n",
    "from common.pre_process import preprocess_image_yolov3 as preprocess_image\n",
    "from common.post_process import yolo3_postprocess_np"
   ]
  },
  {
   "cell_type": "markdown",
   "metadata": {},
   "source": [
    "#### Helper Functions"
   ]
  },
  {
   "cell_type": "markdown",
   "metadata": {},
   "source": [
    "Function to read labelmap file"
   ]
  },
  {
   "cell_type": "code",
   "execution_count": 3,
   "metadata": {},
   "outputs": [],
   "source": [
    "def load_coco_names(file_name):\n",
    "    names = {}\n",
    "    assert os.path.exists(file_name), \"path doesn't exist {0}\".format(file_name)\n",
    "    with open(file_name) as f:\n",
    "        for coco_id, name in enumerate(f):\n",
    "            names[coco_id] = name\n",
    "    return names"
   ]
  },
  {
   "cell_type": "markdown",
   "metadata": {},
   "source": [
    "Function to load labels"
   ]
  },
  {
   "cell_type": "code",
   "execution_count": 4,
   "metadata": {},
   "outputs": [],
   "source": [
    "\n",
    "def load_labels(label_file):\n",
    "    label = []\n",
    "    proto_as_ascii_lines = tf.io.gfile.GFile(label_file).readlines()\n",
    "    for l in proto_as_ascii_lines:\n",
    "        label.append(l.rstrip())\n",
    "    return label"
   ]
  },
  {
   "cell_type": "markdown",
   "metadata": {},
   "source": [
    "Function to run inference on video file"
   ]
  },
  {
   "cell_type": "code",
   "execution_count": 5,
   "metadata": {},
   "outputs": [],
   "source": [
    "def run_detect(model_file, label_file, input_file, input_height, input_width, backend_name, output_filename, rename=False, no_show=True):\n",
    "    # Load model and process input image\n",
    "    model = tf.saved_model.load(model_file)\n",
    "\n",
    "    # Load the labels\n",
    "    if label_file:\n",
    "        classes = load_coco_names(label_file)\n",
    "    anchors = get_anchors(anchor_file)\n",
    "\n",
    "    cap = None\n",
    "    video_writer = None\n",
    "    images = []\n",
    "    if label_file:\n",
    "        labels = load_labels(label_file)\n",
    "    colors = get_colors(labels)\n",
    "    input_mode = get_input_mode(input_file)\n",
    "    if input_mode == \"video\":\n",
    "        cap = cv2.VideoCapture(input_file)\n",
    "        video_writer = cv2.VideoWriter()\n",
    "        output_resolution = (int(cap.get(cv2.CAP_PROP_FRAME_WIDTH)), int(cap.get(cv2.CAP_PROP_FRAME_HEIGHT )))\n",
    "        output_filename = backend_name+\"_\"+output_filename\n",
    "        video_writer.open(output_filename, cv2.VideoWriter_fourcc(*'avc1'), 20.0, output_resolution)\n",
    "    elif input_mode == 'image':\n",
    "        images = [input_file]\n",
    "    elif input_mode == 'directory':\n",
    "        if not os.path.isdir(input_file):\n",
    "            raise AssertionError(\"Path doesn't exist {0}\".format(input_file))\n",
    "        images = [os.path.join(input_file, i) for i in os.listdir(input_file)]\n",
    "        result_dir = os.path.join(input_file, '../detections')\n",
    "        if not os.path.exists(result_dir):\n",
    "            os.mkdir(result_dir)\n",
    "    else:\n",
    "        raise Exception(\n",
    "            \"Invalid input. Path to an image or video or directory of images. Use 0 for using camera as input.\"\n",
    "        )\n",
    "    images_len = len(images)\n",
    "    image_id = -1\n",
    "    # Run inference\n",
    "    while True:\n",
    "        image_id += 1\n",
    "        if input_mode == 'video':\n",
    "            if cap.isOpened():\n",
    "                ret, frame = cap.read()\n",
    "                if ret is True:\n",
    "                    pass\n",
    "                else:\n",
    "                    break\n",
    "            else:\n",
    "                break\n",
    "        if input_mode in ['image', 'directory']:\n",
    "            if image_id < images_len:\n",
    "                frame = cv2.imread(images[image_id])\n",
    "            else:\n",
    "                break\n",
    "        img = frame\n",
    "        image = Img.fromarray(img)\n",
    "        \n",
    "        if(backend_name == \"VAD-M\"):\n",
    "            xlist = []\n",
    "            for i in range(1, 9):\n",
    "                x = tf.convert_to_tensor(preprocess_image(image, (input_height, input_width)))\n",
    "                xlist.append(x)\n",
    "            img_resized = np.stack(xlist)\n",
    "            img_resized = tf.squeeze(img_resized,1)\n",
    "        else:\n",
    "            img_resized = tf.convert_to_tensor(preprocess_image(image, (input_height, input_width)))\n",
    "            \n",
    "        # Warmup\n",
    "        if image_id == 0:\n",
    "            detected_boxes = model(img_resized)\n",
    "\n",
    "        # Run\n",
    "        start = time.time()\n",
    "        detected_boxes = model(img_resized)\n",
    "        elapsed = time.time() - start\n",
    "        fps = 1 / elapsed\n",
    "        print('Inference time in ms: %.2f' % (elapsed * 1000))\n",
    "        \n",
    "        # post-processing\n",
    "        image_shape = tuple((frame.shape[0], frame.shape[1]))\n",
    "        out_boxes, out_classes, out_scores = yolo3_postprocess_np(\n",
    "            detected_boxes,\n",
    "            image_shape,\n",
    "            anchors,\n",
    "            len(labels), (input_height, input_width),\n",
    "            max_boxes=10,\n",
    "            confidence=conf_threshold,\n",
    "            iou_threshold=iou_threshold,\n",
    "            elim_grid_sense=True)\n",
    "        # modified draw_boxes function to return an openCV formatted image\n",
    "        img_bbox = draw_boxes(img, out_boxes, out_classes, out_scores, labels,\n",
    "                              colors)\n",
    "        # draw information overlay onto the frames\n",
    "        cv2.putText(img_bbox, 'Inference Running on : {0}'.format(backend_name),\n",
    "                    (30, 50), font, font_size, color, font_thickness)\n",
    "        cv2.putText(\n",
    "            img_bbox, 'FPS : {0} | Inference Time : {1}ms'.format(\n",
    "                int(fps), round((elapsed * 1000), 2)), (30, 80), font,\n",
    "            font_size, color, font_thickness)\n",
    "        if input_mode in 'directory':\n",
    "            out_file = \"detections_{0}.jpg\".format(image_id)\n",
    "            out_file = os.path.join(result_dir, out_file)\n",
    "            cv2.imwrite(out_file, img_bbox)\n",
    "        if input_mode in 'image':\n",
    "            cv2.imwrite(\"detections.jpg\", img_bbox)\n",
    "            print(\"Output image is saved in detections.jpg\")\n",
    "        if not no_show:\n",
    "            cv2.imshow(\"detections\", img_bbox)\n",
    "            if cv2.waitKey(1) & 0XFF == ord('q'):\n",
    "                break\n",
    "        if rename:\n",
    "            rename_file(images[image_id], out_classes, labels)\n",
    "        if input_mode == 'video':\n",
    "            video_writer.write(img_bbox)\n",
    "    if input_mode in 'directory':\n",
    "        print(\"Output images is saved in {0}\".format(\n",
    "            os.path.abspath(result_dir)))\n",
    "    \n",
    "\n",
    "    if cap:\n",
    "        cap.release()\n",
    "    if video_writer:\n",
    "        video_writer.release()\n",
    "    cv2.destroyAllWindows()\n"
   ]
  },
  {
   "cell_type": "markdown",
   "metadata": {},
   "source": [
    "#### Run inference on OpenVINO Integration with TensorFlow\n",
    "* This workload can be modified to enable/disable Openvino Integration with Tensorflow by setting the \"flag_enable\" argument\n",
    "    * \"native\" for Stock TensorFlow\n",
    "    * \"openvino\" for enabling Openvino Integration with Tensorflow\n",
    "* Currently this workload works for both video and image type.\n",
    "    * Set the argument \"input_type\" as image/video\n",
    "    * Change the \"input_file\" path to actual file\n",
    "    * Change the output filename to image/video extensions\n",
    "* Backend can be changed to \"CPU, GPU, GPU_FP16, MYRIAD or VAD-M\""
   ]
  },
  {
   "cell_type": "code",
   "execution_count": 6,
   "metadata": {},
   "outputs": [],
   "source": [
    "flag_enable = \"openvino\" # please edit for native Tensorflow\n",
    "input_file = \"../data/images/grace_hopper.jpg\"\n",
    "model_file = \"../data/yolo_v4\"\n",
    "label_file = \"../data/coco.names\"\n",
    "anchor_file = \"../data/yolov4_anchors.txt\"\n",
    "input_height = 160\n",
    "input_width = 160\n",
    "input_mean = 0\n",
    "input_std = 255\n",
    "backend_name = \"CPU\"\n",
    "output_file = \"output_detections.jpg\""
   ]
  },
  {
   "cell_type": "code",
   "execution_count": 7,
   "metadata": {},
   "outputs": [
    {
     "name": "stdout",
     "output_type": "stream",
     "text": [
      "Openvino Integration With Tensorflow\n",
      "Available Backends:\n",
      "CPU\n",
      "VAD-M\n"
     ]
    },
    {
     "name": "stderr",
     "output_type": "stream",
     "text": [
      "2022-06-21 20:59:17.075523: I tensorflow/core/platform/cpu_feature_guard.cc:151] This TensorFlow binary is optimized with oneAPI Deep Neural Network Library (oneDNN) to use the following CPU instructions in performance-critical operations:  AVX2 AVX512F FMA\n",
      "To enable them in other operations, rebuild TensorFlow with the appropriate compiler flags.\n"
     ]
    },
    {
     "name": "stdout",
     "output_type": "stream",
     "text": [
      "2022-06-21 20:59:26.462418: OVTF Summary -> 382 out of 1470 nodes in the graph (25%) are now running with OpenVINO™ backend\n",
      "Inference time in ms: 91.77\n",
      "person 0.97\n",
      "tie 0.66\n",
      "Output image is saved in detections.jpg\n"
     ]
    }
   ],
   "source": [
    "if __name__ == \"__main__\":\n",
    "    \n",
    "    output_dir = \".\"\n",
    "    conf_threshold = 0.6\n",
    "    iou_threshold = 0.5\n",
    " \n",
    "    # overlay parameters\n",
    "    font = cv2.FONT_HERSHEY_SIMPLEX\n",
    "    font_size = .6\n",
    "    color = (0, 0, 0)\n",
    "    font_thickness = 2\n",
    "\n",
    "   \n",
    "    # Print list of available backends\n",
    "    if(flag_enable == \"native\"):\n",
    "        print('StockTensorflow')\n",
    "        ovtf.disable()\n",
    "    elif(flag_enable == \"openvino\"):\n",
    "        print('Openvino Integration With Tensorflow')\n",
    "        print('Available Backends:')\n",
    "        backends_list = ovtf.list_backends()\n",
    "        for backend in backends_list:\n",
    "            print(backend)\n",
    "        os.environ['TF_ENABLE_ONEDNN_OPTS']='1'\n",
    "        ovtf.set_backend(backend_name)\n",
    "    else:\n",
    "        raise AssertionError(\"flag_enable string not supported\")\n",
    "       \n",
    "    run_detect(model_file, label_file,input_file,input_height,input_width, backend_name, output_file)   "
   ]
  },
  {
   "cell_type": "markdown",
   "metadata": {},
   "source": [
    "#### Openvino Integration with Tensorflow Model Support\n",
    "* TensorFlow with OpenVINO Integration with TensorFlow supports models listed in <a href=\"https://github.com/openvinotoolkit/openvino_tensorflow/blob/master/docs/MODELS.md\">here</a>\n",
    "* Some models might require a different preprocess. Please change preprocessing methods accordingly\n",
    "\n"
   ]
  },
  {
   "cell_type": "markdown",
   "metadata": {},
   "source": [
    "## Run Openvino Integration with Tensorflow Inference\n",
    "\n",
    "All the code up to this point has been run within the Jupyter Notebook instance running on a development node based on an Intel® Xeon® Scalable Processor, where the Notebook is allocated a single core. We will now run the workload on several DevCloud's edge compute nodes. We will send work to the edge compute nodes by submitting jobs into a queue. For each job, we will specify the type of the edge compute node that must be allocated for the job."
   ]
  },
  {
   "cell_type": "markdown",
   "metadata": {},
   "source": [
    "#### Check available edge compute nodes\n",
    "The following command can be used to check the available edge compute nodes that can be used and certain configurations. "
   ]
  },
  {
   "cell_type": "markdown",
   "metadata": {},
   "source": [
    "The job file will be executed directly on the edge compute node. Use the below command to find the edge nodes."
   ]
  },
  {
   "cell_type": "code",
   "execution_count": 8,
   "metadata": {},
   "outputs": [
    {
     "name": "stdout",
     "output_type": "stream",
     "text": [
      "     15 idc001skl,compnode,openvino-latest,intel-core,i5-6500te,intel-hd-530,ram8gb\r\n",
      "     14 idc002mx8,compnode,openvino-latest,intel-core,i5-6500te,intel-hd-530,ram8gb,myriadx-8-vpu\r\n",
      "     11 idc004nc2,compnode,openvino-latest,intel-core,i5-6500te,intel-hd-530,ram8gb,myriadx-1-vpu\r\n",
      "      5 idc006kbl,compnode,openvino-latest,intel-core,i5-7500t,intel-hd-630,ram8gb\r\n",
      "      5 idc007xv5,compnode,openvino-latest,intel-xeon,e3-1268l-v5,intel-hd-p530,ram32gb\r\n",
      "      5 idc008u2g,compnode,openvino-latest,intel-atom,e3950,intel-hd-505,ram4gb,myriadx-1-vpu\r\n",
      "      1 idc009jkl,compnode,openvino-latest,intel-core,i5-7500,intel-hd-630,ram8gb\r\n",
      "      1 idc010jal,compnode,openvino-latest,intel-celeron,j3355,intel-hd-500,ram4gb\r\n",
      "      1 idc011ark2250s,compnode,openvino-latest,intel-core,i5-6442eq,intel-hd-530,ram8gb,myriadx-3-vpu\r\n",
      "      1 idc012ark1220l,compnode,openvino-latest,intel-atom,e3940,intel-hd-500,ram4gb,myriadx-2-vpu\r\n",
      "      1 idc013ds580,compnode,openvino-latest,intel-atom,e3950,intel-hd-505,ram2gb\r\n",
      "      4 idc014,compnode,openvino-latest,intel-core,i7-8665ue,intel-uhd-620,ram16gb,myriadx-2-vpu\r\n",
      "      3 idc015ai5,compnode,openvino-latest,intel-core,i5-8365ue,intel-uhd-620,ram8gb\r\n",
      "      2 idc016ai7,compnode,openvino-latest,intel-core,i7-8665ue,intel-uhd-620,ram16gb\r\n",
      "      1 idc017,compnode,openvino-latest,intel-xeon,gold5220r,no-gpu,ram96gb\r\n",
      "      1 idc018,compnode,openvino-latest,intel-xeon,gold6258r,no-gpu,ram96gb\r\n",
      "      2 idc021,compnode,openvino-latest,intel-xeon,silver4214r,no-gpu,ram48gb\r\n",
      "     10 idc022,compnode,openvino-latest,intel-core,i7-10710u,intel-uhd-620,ram16gb\r\n",
      "      6 idc023,compnode,openvino-latest,intel-core,i5-8365ue,intel-uhd-620,ram8gb,myriadx-2-vpu\r\n",
      "      1 idc024,compnode,openvino-latest,intel-xeon,gold5220r,no-gpu,ram96gb,myriadx-8-vpu\r\n",
      "      1 idc026,compnode,openvino-latest,intel-xeon,bronze3206r,no-gpu,ram48gb,myriadx-8-vpu\r\n",
      "      1 idc027,compnode,openvino-latest,intel-xeon,silver4214r,no-gpu,ram48gb,myriadx-8-vpu\r\n",
      "      1 idc029,compnode,openvino-latest,intel-core,i7-8665u,intel-uhd-620,ram32gb\r\n",
      "      1 idc030,compnode,openvino-latest,intel-core,i7-1065g7,iris-plus,ram16gb\r\n",
      "      1 idc031,compnode,openvino-latest,intel-xeon,e-2286m,intel-uhd-p630,ram32gb,myriadx-8-vpu\r\n",
      "     14 idc033,compnode,openvino-latest,intel-xeon,e-2286m,intel-uhd-p630,ram32gb\r\n",
      "      5 idc036,compnode,openvino-latest,intel-core,i9-10900t,intel-uhd-630,ram32gb\r\n",
      "      5 idc037,compnode,openvino-latest,intel-core,i7-10700t,intel-uhd-630,ram32gb\r\n",
      "      5 idc038,compnode,openvino-latest,intel-core,i5-8365ue,intel-uhd-620,ram8gb,myriadx-2-vpu\r\n",
      "      1 idc042,compnode,openvino-latest,intel-core,i5-8500t,intel-uhd-630,ram32gb,myriadx-8-vpu,aaeon,boxer-6842m\r\n",
      "      1 idc043,compnode,openvino-latest,intel-core,i3-10100te,intel-uhd-630,ram16gb,myriadx-2-vpu,aaeon,genesys-cml5ai\r\n",
      "      1 idc044,compnode,openvino-latest,intel-atom,intel,atom,e3950,intel-uhd-630,ram8gb,myriadx-1-vpu\r\n",
      "      5 idc045,compnode,openvino-latest,intel-core,i7-1185g7e,iris-xe-graphics,ram16gb,none\r\n",
      "      2 idc046,compnode,openvino-latest,intel-core,i5-1145g7e,iris-xe-graphics,ram16gb\r\n",
      "      1 idc051,compnode,openvino-latest,intel-xeon,gold6314u,none,ram128gb,none,icelake\r\n",
      "      5 idc052,compnode,openvino-latest,intel-xeon,gold6338n,none,ram128gb,none,icelake\r\n",
      "      2 idc053,compnode,openvino-latest,intel-xeon,d-2166nt,none,128gb,none\r\n",
      "      1 idc054,compnode,openvino-latest,intel-core,i7-1165g7,iris-xe-graphics,ram16gb,none\r\n",
      "      1 idc055,compnode,openvino-latest,intel-core,i5-1145g7e,iris-xe-graphics,ram8gb,none\r\n",
      "      1 idc056,compnode,openvino-latest,intel-core,i3-1115g4e,intel-uhd-11th-gen,ram8gb,none\r\n",
      "      1 idc057,compnode,openvino-latest,intel-core,i5-7500t,intel-hd-630,ram8gb,myriadx-1-vpu\r\n",
      "      2 idc058,compnode,openvino-latest,intel-core,i5-8265u,intel-uhd-8th-gen,ram8gb,none\r\n",
      "      1 idc060,compnode,openvino-latest,intel-core,i5-8500,intel-uhd-p630,ram16gb,none\r\n",
      "      1 idc061,compnode,openvino-latest,intel-xeon,e-2176g,intel-uhd-p630,ram16gb,none\r\n",
      "      1 idc062,compnode,openvino-latest,intel-celeron,6305e,intel-uhd-graphics,ram16gb,none\r\n",
      "      5 idc063,compnode,openvino-latest,intel-core,xeon,w-1290te,intel-uhd-630,ram16gb,none\r\n",
      "      2 idc065,compnode,openvino-latest,intel-core,i7-8565u,intel-uhd-8th-gen,ram8gb,none\r\n",
      "      1 idc066,compnode,openvino-latest,intel-core,i3-8145u,intel-uhd-8th-gen,ram4gb,none\r\n",
      "      1 idc068,compnode,openvino-latest,intel-core,i7-1185g7e,iris-xe-graphics,ram16gb,none\r\n",
      "      1 idc069,compnode,openvino-latest,intel-core,i5-1135g7,iris-xe-graphics,ram8gb,none\r\n",
      "     10 idc070,compnode,openvino-latest,intel-pentium,j6426,intel-uhd-10th-gen,ram4gb,none\r\n",
      "     10 idc071,compnode,openvino-latest,intel-atom,x6425re,intel-uhd-10th-gen,ram16gb,none\r\n"
     ]
    }
   ],
   "source": [
    "!pbsnodes | grep compnode | awk '{print $3}' | sort | uniq -c"
   ]
  },
  {
   "cell_type": "markdown",
   "metadata": {},
   "source": [
    "#### Monitor job status\n",
    "Before going to the job submission step, we want to first talk about how to check the status of the jobs that have been submitted.  The `qstat` command can be used for this purpose.  The custom Jupyter* Notebook widget `liveQstat()` is provided to display the output of `qstat` with live updates.  \n",
    "\n",
    "Run the following cell to display the current job status with periodic updates.  "
   ]
  },
  {
   "cell_type": "code",
   "execution_count": 9,
   "metadata": {},
   "outputs": [
    {
     "data": {
      "application/vnd.jupyter.widget-view+json": {
       "model_id": "c486c356cf6b46ccb52d360d2d3774e3",
       "version_major": 2,
       "version_minor": 0
      },
      "text/plain": [
       "Output(layout=Layout(border='1px solid gray', height='200px', overflow_y='auto', width='100%'))"
      ]
     },
     "metadata": {},
     "output_type": "display_data"
    },
    {
     "data": {
      "application/vnd.jupyter.widget-view+json": {
       "model_id": "0db9225ac7c743f2851ffa74ede5170e",
       "version_major": 2,
       "version_minor": 0
      },
      "text/plain": [
       "Button(description='Stop', style=ButtonStyle())"
      ]
     },
     "metadata": {},
     "output_type": "display_data"
    }
   ],
   "source": [
    "from qarpo.demoutils import *\n",
    "liveQstat()"
   ]
  },
  {
   "cell_type": "markdown",
   "metadata": {},
   "source": [
    "You should see the jobs that you have submitted (referenced by the `JobID` that gets displayed right after you submit the jobs in the previous step).\n",
    "There should also be an extra job in the queue named `jupyterhub-singleuser`: this job is your current Jupyter* Notebook session which is always running.\n",
    "\n",
    "The `S` column shows the current status of each job: \n",
    "- If the status is `Q`, then the job is queued and waiting for available resources\n",
    "- If ste status is `R`, then the job is running\n",
    "- If the job is no longer listed, then the job has completed\n",
    "\n",
    "<br><div class=note><i><b>\n",
    "Note: The amount of time spent in the queue depends on the number of users accessing the requested compute nodes. Once the jobs for this sample application begin to run, they should take from 1 to 5 minutes each to complete.\n",
    "</b></i></div>"
   ]
  },
  {
   "cell_type": "markdown",
   "metadata": {},
   "source": [
    "#### Create the job file\n",
    "We will run inference on several different edge compute nodes present in the Intel® DevCloud for the Edge. We will send work to the edge compute nodes by submitting the corresponding non-interactive jobs into a queue. For each job, we will specify the type of the edge compute server that must be allocated for the job.\n",
    "\n",
    "The job file is a [Bash](https://www.gnu.org/software/bash/) script that serves as a wrapper around the Python* executable of our application that will be executed directly on the edge compute node.  One purpose of the job file is to simplify running an application on different compute nodes by accepting a few arguments and then performing accordingly any necessary steps before and after running the application executable.  \n",
    "\n",
    "For this sample, the job file we will be using is already written for you and appears in the next cell.  The job file will be submitted as if it were run from the command line using the following format\n",
    "\n",
    "```bash\n",
    "run_tensorflow_*.sh\n",
    "```\n",
    "\n",
    "Based on the input arguments, the job file will do the following:\n",
    "- Change to the working directory `PBS_O_WORKDIR` where this Jupyter* Notebook and other files appear on the compute node\n",
    "- Create the <*output_directory*>\n",
    "- Run the application Python* executable with the appropriate command line arguments\n",
    "\n",
    "Run the following cell to create the job file.  The [`%%writefile`](https://ipython.readthedocs.io/en/stable/interactive/magics.html#cellmagic-writefile) line at the top will write the cell contents to the specified job file `run_tensorflow.sh`.\n",
    "\n",
    "For Performance comparision, we use only video file as input for both Tensorflow and Openvino applications.\n"
   ]
  },
  {
   "cell_type": "markdown",
   "metadata": {},
   "source": [
    "Below script is used to schedule inference on edge node with native TensorFlow"
   ]
  },
  {
   "cell_type": "code",
   "execution_count": 10,
   "metadata": {},
   "outputs": [
    {
     "name": "stdout",
     "output_type": "stream",
     "text": [
      "Writing run_native_tensorflow.sh\n"
     ]
    }
   ],
   "source": [
    "%%writefile run_native_tensorflow.sh\n",
    "\n",
    "# The default path for the job is your home directory, so we change directory to where the files are.\n",
    "cd $PBS_O_WORKDIR\n",
    "if [ ! -d \"./results/\" ];then\n",
    "   mkdir -p ./results\n",
    "fi\n",
    "DEVICE=$1\n",
    "source /data/venv/tf_ov/bin/activate\n",
    "source /opt/intel/openvino_2022/setupvars.sh\n",
    "\n",
    "pip install matplotlib\n",
    "\n",
    "# cmd to run the TensorFlow classification code\n",
    "python3 object_detection_sample_video_image.py --no_show --model \"../data/yolo_v4\"\\\n",
    "                       --labels \"../data/coco.names\" \\\n",
    "                       --input \"../data/images/people-detection.mp4\"\\\n",
    "                       --backend $DEVICE \\\n",
    "                       -f \"native\""
   ]
  },
  {
   "cell_type": "markdown",
   "metadata": {},
   "source": [
    "Below script is used to run inference on edge nodes with OpenVINO Add-on"
   ]
  },
  {
   "cell_type": "code",
   "execution_count": 11,
   "metadata": {},
   "outputs": [
    {
     "name": "stdout",
     "output_type": "stream",
     "text": [
      "Writing run_openvino_tensorflow.sh\n"
     ]
    }
   ],
   "source": [
    "%%writefile run_openvino_tensorflow.sh\n",
    "\n",
    "# The default path for the job is your home directory, so we change directory to where the files are.\n",
    "cd $PBS_O_WORKDIR\n",
    "if [ ! -d \"./results/\" ];then\n",
    "   mkdir -p ./results\n",
    "fi\n",
    "\n",
    "DEVICE=$1\n",
    "source /data/venv/tf_ov/bin/activate\n",
    "source /opt/intel/openvino_2022/setupvars.sh\n",
    "\n",
    "\n",
    "# cmd to run the OpenVINO Tensorflow Add-on classification code\n",
    "python3 object_detection_sample_video_image.py --no_show --model \"../data/yolo_v4\"\\\n",
    "                       --input \"../data/images/people-detection.mp4\"\\\n",
    "                       --labels \"../data/coco.names\" \\\n",
    "                       --backend $DEVICE \\\n",
    "                       -f \"openvino\"\n",
    "                       "
   ]
  },
  {
   "cell_type": "markdown",
   "metadata": {},
   "source": [
    "To understand the security measures that we take please review our [security best practices](https://devcloud.intel.com/edge/resource_docs/security_best_practices/)."
   ]
  },
  {
   "cell_type": "markdown",
   "metadata": {},
   "source": [
    "### Intel® CPU with stock TensorFlow\n",
    "In the cell below, we submit a job to an edge node with an [Intel® Xeon® Gold 6258R Processor](https://ark.intel.com/content/www/us/en/ark/products/199350/intel-xeon-gold-6258r-processor-38-5m-cache-2-70-ghz.html). The inference workload will run on the CPU.\n",
    "  \n"
   ]
  },
  {
   "cell_type": "code",
   "execution_count": 12,
   "metadata": {
    "scrolled": true
   },
   "outputs": [
    {
     "name": "stdout",
     "output_type": "stream",
     "text": [
      "Job ID:  469163\n"
     ]
    }
   ],
   "source": [
    "#Submit job to the queue\n",
    "job_id_core_stock = !qsub run_native_tensorflow.sh -l nodes=1:idc017 -F \"CPU\" -N native_tensorflow_cpu\n",
    "id_core_stock = job_id_core_stock[0].split('.')[0]\n",
    "print(\"Job ID: \", id_core_stock) "
   ]
  },
  {
   "cell_type": "markdown",
   "metadata": {},
   "source": [
    "### Intel® CPU with OpenVINO™ Integration with TensorFlow\n",
    "In the cell below, we submit a job to an edge node with an [Intel® Xeon® Gold 6258R Processor](https://ark.intel.com/content/www/us/en/ark/products/199350/intel-xeon-gold-6258r-processor-38-5m-cache-2-70-ghz.html). The inference workload will run on the CPU."
   ]
  },
  {
   "cell_type": "code",
   "execution_count": 32,
   "metadata": {},
   "outputs": [
    {
     "name": "stdout",
     "output_type": "stream",
     "text": [
      "Job ID:  469179\n"
     ]
    }
   ],
   "source": [
    "#Submit job to the queue\n",
    "job_id_core = !qsub run_openvino_tensorflow.sh -l nodes=1:idc017 -F \"CPU\" -N openvino_tensorflow_cpu\n",
    "id_core = job_id_core[0].split('.')[0]\n",
    "print(\"Job ID: \", id_core) "
   ]
  },
  {
   "cell_type": "markdown",
   "metadata": {},
   "source": [
    "### Intel® GPU with OpenVINO™ Integration with TensorFlow \n",
    "In the cell below, we submit a job to an edge node with an [Intel® Core i7-8665](https://ark.intel.com/content/www/us/en/ark/products/193563/intel-core-i7-8665u-processor-8m-cache-up-to-4-80-ghz.html). The inference workload will run on the \n",
    "Intel® UHD Graphics 620 GPU integrated with the CPU."
   ]
  },
  {
   "cell_type": "code",
   "execution_count": 14,
   "metadata": {
    "scrolled": true
   },
   "outputs": [
    {
     "name": "stdout",
     "output_type": "stream",
     "text": [
      "Job ID:  469165\n"
     ]
    }
   ],
   "source": [
    "#Submit job to the queue\n",
    "job_id_gpu = !qsub run_openvino_tensorflow.sh -l nodes=1:idc014 -F \"GPU\" -N openvino_tensorflow_gpu \n",
    "id_gpu = job_id_gpu[0].split('.')[0]\n",
    "print(\"Job ID: \", id_gpu) "
   ]
  },
  {
   "cell_type": "markdown",
   "metadata": {},
   "source": [
    "### Intel® Neural Compute Stick 2 with OpenVINO™ Integration with TensorFlow  \n",
    "In the cell below, we submit a job to an edge node with an [Intel Core i5-6500te](https://ark.intel.com/products/88186/Intel-Core-i5-6500TE-Processor-6M-Cache-up-to-3-30-GHz.html) CPU. The inference workload will run on an [Intel® Neural Compute Stick 2](https://software.intel.com/en-us/neural-compute-stick) installed in this node."
   ]
  },
  {
   "cell_type": "code",
   "execution_count": 15,
   "metadata": {
    "scrolled": true
   },
   "outputs": [
    {
     "name": "stdout",
     "output_type": "stream",
     "text": [
      "Job ID:  469166\n"
     ]
    }
   ],
   "source": [
    "#Submit job to the queue\n",
    "job_id_ncs2 = !qsub run_openvino_tensorflow.sh -l nodes=1:idc004nc2 -F \"MYRIAD\" -N openvino_tensorflow_ncs2\n",
    "id_ncs2 = job_id_ncs2[0].split('.')[0]\n",
    "print(\"Job ID: \", id_ncs2)"
   ]
  },
  {
   "cell_type": "markdown",
   "metadata": {},
   "source": [
    "### IEI Mustang-V100-MX8 ( Intel® Movidius™ Myriad™ X Vision Processing Unit (VPU))\n",
    "In the cell below, we submit a job to an edge node with an [Intel Core i5-6500te CPU](https://ark.intel.com/products/88186/Intel-Core-i5-6500TE-Processor-6M-Cache-up-to-3-30-GHz.html). The inference workload will run on an [Intel® Vision Accelerator Design with Intel® Movidius™ VPUs](https://software.intel.com/openvino-toolkit/hardware#VPU) accelerator installed in this node that has eight VPUs."
   ]
  },
  {
   "cell_type": "markdown",
   "metadata": {},
   "source": [
    "Below script runs inference for a batch of 8 images on 8 VPUs simultaneously"
   ]
  },
  {
   "cell_type": "code",
   "execution_count": 21,
   "metadata": {},
   "outputs": [
    {
     "name": "stdout",
     "output_type": "stream",
     "text": [
      "Overwriting run_openvino_tensorflow_hddl.sh\n"
     ]
    }
   ],
   "source": [
    "%%writefile run_openvino_tensorflow_hddl.sh\n",
    "\n",
    "# The default path for the job is your home directory, so we change directory to where the files are.\n",
    "cd $PBS_O_WORKDIR\n",
    "if [ ! -d \"./results/\" ];then\n",
    "   mkdir -p ./results\n",
    "fi\n",
    "DEVICE=$1\n",
    "source /data/venv/tf_ov/bin/activate\n",
    "source /opt/intel/openvino_2022/setupvars.sh\n",
    "\n",
    "\n",
    "\n",
    "export OPENVINO_TF_ENABLE_BATCHING=1\n",
    "# cmd to run the OpenVINO Tensorflow Add-on classification code\n",
    "python3 object_detection_sample_video_image.py --no_show --model \"../data/yolo_v4\"\\\n",
    "                       --input \"../data/images/people-detection.mp4\"\\\n",
    "                       --labels \"../data/coco.names\" \\\n",
    "                       --backend $DEVICE \\\n",
    "                       -f \"openvino\"\n",
    "                       "
   ]
  },
  {
   "cell_type": "code",
   "execution_count": 17,
   "metadata": {},
   "outputs": [
    {
     "name": "stdout",
     "output_type": "stream",
     "text": [
      "Job ID:  469167\n"
     ]
    }
   ],
   "source": [
    "#Submit job to the queue\n",
    "job_id_hddlr_batch = !qsub run_openvino_tensorflow_hddl.sh -l nodes=1:idc002mx8 -F \"VAD-M\" -N openvino_tensorflow_hddl_batch\n",
    "id_hddlr_batch = job_id_hddlr_batch[0].split('.')[0]\n",
    "print(\"Job ID: \", id_hddlr_batch) "
   ]
  },
  {
   "cell_type": "markdown",
   "metadata": {},
   "source": [
    "## Performance Comparison\n",
    "\n",
    "Please execute this cell only after all the cells/jobs have successfully finished execution\n",
    "\n",
    "\n",
    "The inference time is written to files in the 'results' folder and plotted as below"
   ]
  },
  {
   "cell_type": "code",
   "execution_count": 34,
   "metadata": {},
   "outputs": [
    {
     "data": {
      "image/png": "[encoded data removed]",
      "text/plain": [
       "<Figure size 2880x1440 with 1 Axes>"
      ]
     },
     "metadata": {
      "needs_background": "light"
     },
     "output_type": "display_data"
    }
   ],
   "source": [
    "arch_list = ['Native\\nTensorFlow\\nCPU', 'OpenVINO\\nTensorFlow\\nCPU',\n",
    "             'OpenVINO\\nTensorFlow\\nGPU', 'OpenVINO\\nTensorFlow\\nMYRIAD', \n",
    "             'OpenVINO\\nTensorFlow\\nVAD-M']\n",
    "\n",
    "file_list = ['native_tensorflow_CPU.txt', 'openvino_tensorflow_CPU.txt',\n",
    "             'openvino_tensorflow_GPU.txt', 'openvino_tensorflow_MYRIAD.txt', \n",
    "             'openvino_tensorflow_VAD-M.txt']\n",
    "\n",
    "values = []\n",
    "\n",
    "for file in file_list:\n",
    "    f = open('results/' + file)\n",
    "    v = f.read()\n",
    "    values.append(float(v))\n",
    "\n",
    "plt.figure(figsize=(40, 20))\n",
    "plt.rcParams.update({'font.size': 30})\n",
    "plt.rcParams['xtick.top'] = plt.rcParams['xtick.labeltop'] = False\n",
    "plt.ylabel('Throughput in FPS')\n",
    "plt.bar(arch_list, values)\n",
    "for index, value in enumerate(values):\n",
    "    plt.text(index - 0.25, 1 + value, str(round(value, 2)), fontsize=30)\n",
    "\n",
    "plt.title('Performance')\n",
    "plt.show()"
   ]
  },
  {
   "cell_type": "markdown",
   "metadata": {},
   "source": [
    "## Next steps\n",
    "- [More Jupyter* Notebook Samples](https://devcloud.intel.com/edge/advanced/sample_applications/) - additional sample applications \n",
    "- [Jupyter* Notebook Tutorials](https://devcloud.intel.com/edge/get_started/tutorials) - sample application Jupyter* Notebook tutorials\n",
    "- [Intel® Distribution of OpenVINO™ toolkit Main Page](https://software.intel.com/openvino-toolkit) - learn more about the tools and use of the Intel® Distribution of OpenVINO™ toolkit for implementing inference on the edge"
   ]
  },
  {
   "cell_type": "markdown",
   "metadata": {},
   "source": [
    "## About this notebook\n",
    "\n",
    "For technical support, please see the [Intel® DevCloud Forums](https://software.intel.com/en-us/forums/intel-devcloud-for-edge)\n"
   ]
  },
  {
   "cell_type": "markdown",
   "metadata": {},
   "source": [
    "<p style=background-color:#0071C5;color:white;padding:0.5em;display:table-cell;width:100pc;vertical-align:middle>\n",
    "<img style=float:right src=\"https://devcloud.intel.com/edge/static/images/svg/IDZ_logo.svg\" alt=\"Intel DevCloud logo\" width=\"150px\"/>\n",
    "<a style=color:white>Intel® DevCloud for the Edge</a><br>   \n",
    "<a style=color:white href=\"#top\">Top of Page</a> | \n",
    "<a style=color:white href=\"https://devcloud.intel.com/edge/static/docs/terms/Intel-DevCloud-for-the-Edge-Usage-Agreement.pdf\">Usage Agreement (Intel)</a> | \n",
    "<a style=color:white href=\"https://devcloud.intel.com/edge/static/docs/terms/Colfax_Cloud_Service_Terms_v1.3.pdf\">Service Terms (Colfax)</a>\n",
    "</p>\n"
   ]
  }
 ],
 "metadata": {
  "kernelspec": {
   "display_name": "Python 3 (Tensorflow_OpenVINO 2022.1)",
   "language": "python",
   "name": "c003-python_3_ovtf"
  },
  "language_info": {
   "codemirror_mode": {
    "name": "ipython",
    "version": 3
   },
   "file_extension": ".py",
   "mimetype": "text/x-python",
   "name": "python",
   "nbconvert_exporter": "python",
   "pygments_lexer": "ipython3",
   "version": "3.8.0"
  },
  "nbTranslate": {
   "displayLangs": [
    "*"
   ],
   "hotkey": "alt-t",
   "langInMainMenu": true,
   "sourceLang": "en",
   "targetLang": "fr",
   "useGoogleTranslate": true
  },
  "toc": {
   "base_numbering": 1,
   "nav_menu": {},
   "number_sections": true,
   "sideBar": true,
   "skip_h1_title": true,
   "title_cell": "Table of Contents",
   "title_sidebar": "Table of Contents",
   "toc_cell": false,
   "toc_position": {
    "height": "541.6px",
    "left": "25px",
    "top": "109.2px",
    "width": "384px"
   },
   "toc_section_display": true,
   "toc_window_display": true
  },
  "widgets": {
   "application/vnd.jupyter.widget-state+json": {
    "state": {},
    "version_major": 2,
    "version_minor": 0
   }
  }
 },
 "nbformat": 4,
 "nbformat_minor": 4
}
