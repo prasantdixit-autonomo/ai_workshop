{
 "cells": [
  {
   "cell_type": "markdown",
   "metadata": {},
   "source": [
    "<a id=\"top\"></a>\n",
    "# Object Detection Sample Application"
   ]
  },
  {
   "cell_type": "markdown",
   "metadata": {},
   "source": [
    "## Prerequisites\n",
    "This sample requires the following:\n",
    "- All files are present and in the following directory structure:\n",
    "    - **object_detection.ipynb** - This Jupyter* Notebook\n",
    "    - **object_detection.py** - Python* code for object detection application\n",
    "    - **object_detection_annotate.py** - Python* code to perform post-processing to annotate output video\n",
    "    - **labels.txt** - Mapping of numerical labels to text strings\n",
    "    - **/data/reference-sample-data/object-detection-python/cars_1900.mp4** - Test video\n",
    "\n",
    "It is recommended that you have already read the following from [Get Started on the Intel® DevCloud for the Edge](https://devcloud.intel.com/edge/home/):\n",
    "- [Overview of the Intel® DevCloud for the Edge](https://devcloud.intel.com/edge/get_started/devcloud/)\n",
    "- [Overview of the Intel® Distribution of OpenVINO™ toolkit](https://devcloud.intel.com/edge/get_started/openvino/)\n",
    "\n",
    "<br><div class=note><i><b>Note: </b>It is assumed that the server this sample is being run on is on the Intel® DevCloud for the Edge which has Jupyter* Notebook customizations and all the required libraries already installed.  If you download or copy to a new server, this sample may not run.</i></div>\n"
   ]
  },
  {
   "cell_type": "markdown",
   "metadata": {},
   "source": [
    "## Introduction\n",
    "\n",
    "This sample application demonstrates how a smart video IoT solution may be created using Intel® hardware and software tools to perform object detection.  This solution detects any number of objects within a video frame looking specifically for known objects. \n",
    "\n",
    "The results for each frame are stored in a text file that is later read by a second pass to annotate the input video with boxes around detected objects with a label and probability value.\n",
    "\n",
    "### Key concepts\n",
    "This sample application includes an example for the following:\n",
    "- Application:\n",
    "  - Video and image input is supported using OpenCV\n",
    "  - OpenCV is used to draw bounding boxes around detected objects, labels, and other information\n",
    "  - Visualization of the resulting bounding boxes in the output\n",
    "  - Uses the [Async API](https://docs.openvinotoolkit.org/latest/_docs_IE_DG_Intro_to_Performance.html) feature of the Inference Engine\n",
    "- Intel® DevCloud for the Edge:\n",
    "  - Submitting inference as jobs that are performed on different edge compute nodes (rather than on the development node hosting this Jupyter* notebook)\n",
    "  - Monitoring job status\n",
    "  - Viewing results and assessing performance for hardware on different compute nodes\n",
    "- [Intel® Distribution of OpenVINO™ toolkit](https://software.intel.com/openvino-toolkit):\n",
    "  - Create the necessary Intermediate Representation (IR) files for the inference model using the [Model Downloader](http://docs.openvinotoolkit.org/latest/_tools_downloader_README.html) and [Model Optimizer](http://docs.openvinotoolkit.org/latest/_docs_MO_DG_Deep_Learning_Model_Optimizer_DevGuide.html)\n",
    "  - Run an inference application on multiple hardware devices using the [Inference Engine](http://docs.openvinotoolkit.org/latest/_docs_IE_DG_Deep_Learning_Inference_Engine_DevGuide.html)\n"
   ]
  },
  {
   "cell_type": "markdown",
   "metadata": {},
   "source": [
    "### Async API feature\n",
    "\n",
    "Inference may be run in the Inference Engine using either the synchronous (blocking) or asynchronous (non-blocking) API of the [ExectuableNetwork](https://docs.openvinotoolkit.org/latest/ie_python_api/classie__api_1_1ExecutableNetwork.html) and [InferRequest](https://docs.openvinotoolkit.org/latest/ie_python_api/classie__api_1_1InferRequest.html) classes:\n",
    "- Synchronous API:\n",
    "```python\n",
    "   # Runs inference and returns results when complete\n",
    "   result = exec_net.infer(inputs) \n",
    "```\n",
    "\n",
    "- Asynchronous API\n",
    "```python\n",
    "   # Start inference and return immediately with an InferenceRequest (optional to use)\n",
    "   infer_request = exec_net.start_async(request_id, inputs)\n",
    "\n",
    "   # ... Perform other work such as capturing input data, preprocessing input data,\n",
    "   #     post-processing results, etc. ...\n",
    "\n",
    "   # Check the status of inference one of two ways, both use timeout set to:\n",
    "   #    ms_timeout = 0      - Return status immediately whether inference is complete or not\n",
    "   #    ms_timeout = -1     - Wait until inference is complete, then return\n",
    "   #    ms_timeout = <time> - Wait time in milliseconds or until inference complete\n",
    "\n",
    "   # Option #1: Use the returned InferenceRequest\n",
    "   infer_status = infer_request.wait(ms_timeout)\n",
    "\n",
    "   # Option #2: Lookup InferenceRequest using the request_id used with start_async()\n",
    "   infer_status = exec_net.requests[my_request_id].wait(ms_timeout)\n",
    "```\n",
    "\n",
    "<br><div class=note><i><b>Note: </b>Using `infer()` is effectively the same as calling `start_async()` immediately followed by waiting for the results.</i></div>"
   ]
  },
  {
   "cell_type": "markdown",
   "metadata": {},
   "source": [
    "The [Async API](https://docs.openvinotoolkit.org/latest/_docs_IE_DG_Intro_to_Performance.html) feature is used to run inference in parallel on either a separate thread or device allowing the main thread to continue to do other work such as capturing input data, preprocessing input data, post-processing results, etc.  In this sample application, the Async API is used to perform inference in parallel with loading the next video frame and post-processing inference results. \n",
    "Below is an outline of the code for the main loop appearing in [object_detection.py](./object_detection.py):\n",
    "\n",
    "```python\n",
    "current_inference = 0\n",
    "previous_inference = 1 - args.number_infer_requests\n",
    "infer_requests = exec_net.requests\n",
    "frame_count = 0\n",
    "\n",
    "while frame_count < video_len:\n",
    "    # Read next frame from input stream if available and submit it for inference \n",
    "    # ...\n",
    "        exec_net.start_async(request_id=current_inference, inputs={input_blob: in_frame})\n",
    "\n",
    "    # Retrieve the output of an earlier inference request\n",
    "    if previous_inference >= 0:\n",
    "        status = infer_requests[previous_inference].wait()\n",
    "        # ... post-processing current frame ...\n",
    "        frame_count += 1\n",
    "\n",
    "    # Increment counter for the inference queue and roll them over if necessary \n",
    "    current_inference += 1\n",
    "    if current_inference >= args.number_infer_requests:\n",
    "        current_inference = 0\n",
    "\n",
    "    previous_inference += 1\n",
    "    if previous_inference >= args.number_infer_requests:\n",
    "        previous_inference = 0\n",
    "```"
   ]
  },
  {
   "cell_type": "markdown",
   "metadata": {},
   "source": [
    "## Object detection application\n",
    "The object detection application uses the Intel® Distribution of OpenVINO™ toolkit to perform inference on an input video to locate known objects within each frame.  We will setup, run, and view the results for this application for several different hardware devices (CPU. GPU, etc.) available on the compute nodes within the Intel® DevCloud for the Edge.  To accomplish this, we will be performing the following tasks:\n",
    "\n",
    "1. Use the [Model Downloader](http://docs.openvinotoolkit.org/latest/_tools_downloader_README.html) to download the inference model IR files needed to perform inference\n",
    "2. Use the [Model Optimizer](http://docs.openvinotoolkit.org/latest/_docs_MO_DG_Deep_Learning_Model_Optimizer_DevGuide.html) to create the model IR files in the necessary precisions\n",
    "3. Create the job file used to submit running inference on compute nodes\n",
    "4. Submit jobs for different compute nodes and monitor the job status until complete\n",
    "5. View results and assess performance \n",
    "\n",
    "### How it works\n",
    "At startup the object detection application configures itself by parsing the command line arguments and reading the specified labels file.  Once configured, the application loads the specified inference model's IR files into the [Inference Engine](http://docs.openvinotoolkit.org/latest/_docs_IE_DG_Deep_Learning_Inference_Engine_DevGuide.html) and runs the three phases described in the following sections.\n",
    "#### Phase 1:  Pre-processing\n",
    "The frames from the specified input video are read and pre-processed to have the frame data ready for input into inference.  Each frame is resized and its channels are transposed to match the input of the input requirements of the inference model.  The resulting blocks of frame data are written to the binary file `tmp/processed_vid.bin`.\n",
    "\n",
    "#### Phase 2:  Inference\n",
    "The binary file `tmp/processed_vid.bin` is read for input to inference to detect known objects.  For each detected object within a frame, a message is written as a line to the output text file in the form:\n",
    "```\n",
    "   <frame_id> <xmin> <ymin> <xmax> <ymax> <class_id> <det_label> <det_time>\n",
    "```\n",
    "Where each field reports:\n",
    "- <*frame_id*> - Frame number of results\n",
    "- <*xmin*> - Minimum x coordinate for restriction zone\n",
    "- <*ymin*> - Minimum y coordinate for restriction zone\n",
    "- <*xmax*> - Maximum x coordinate for restriction zone\n",
    "- <*ymax*> - Maximum y coordinate for restriction zone\n",
    "- <*class_id*> - The class identifier (integer) from the inference results \n",
    "- <*det_label*> - Detection label: \"True\" if safe, \"False\" if unsafe\n",
    "- <*det_time*> - Detection time taken to perform inference (\"N/A\" due to using Async API)\n",
    "\n",
    "#### Phase 3:  Post-processing\n",
    "After the object detection application has finished running inference, a second executable is run to annotate the input video with the results from the output text file.  The final results is an output video with boxes drawn around detected objects with each box appearing with a label and probability value.\n",
    "\n",
    "In this sample, we provide three performance numbers for each architecture. However, they are not hard limits on the solution's performance. It is important to understand that for any application, you may want to combine preprocessing, inference, and post-processing, as opposed to separating them as done here. Combined preprocessing has several advantages:\n",
    "- If inference is run asynchronously on the accelerator, the rest of the system is available for parallel tasks for capturing input, preprocessing future frames, or post-processing past frames.\n",
    "- The inference application pipeline has better data locality, allowing for the reuse of data in caches such as in the application's memory or in the hard drive's cache. \n",
    "\n",
    "To run the application on the Intel® DevCloud for the Edge, a job is submitted to an edge compute node with a hardware accelerator such as Intel® HD Graphics GPU and Intel® Movidius™ Neural Compute Stick 2.  After inference on the input is completed, the output is stored in the appropriate `results/<architecture>/` directory.  The results are then viewed within this Jupyter* Notebook using the `videoHTML` video playback utility.\n",
    "\n",
    "The application and inference code for this sample is already implemented in the Python* files: \n",
    "- First pass, detection using inference: [`object_detection.py`](./object_detection.py)\n",
    "- Second pass, annotation using detection results: [`object_detection_annotate.py`](./object_detection_annotate.py)\n",
    "\n",
    "The following sections will guide you through configuring and running the object detection application."
   ]
  },
  {
   "cell_type": "markdown",
   "metadata": {},
   "source": [
    "### Configuration\n",
    "The following sections describe all the necessary configuration to run the object detection application.\n",
    "#### Command line arguments\n",
    "The application is run from the command line using the following format:\n",
    "```bash\n",
    "python3 object_detection.py <arguments...>\n",
    "```\n",
    "The required command line _<arguments...>_ to run the Python* executable [`object_detection.py`](./object_detection.py) are:\n",
    "- **-m** - Path to the _.xml_ IR file (created using [Model Optimizer](http://docs.openvinotoolkit.org/latest/_docs_MO_DG_Deep_Learning_Model_Optimizer_DevGuide.html)) for the inference model. \n",
    "- **-i** - Path to input video file\n",
    "- **--labels** - Path to labels file that matches the trained model used\n",
    "- **-o** - The path to where the output video file will be stored\n",
    "- **-d** - Device type to use to run inference (CPU, GPU, MYRIAD)\n",
    "- **-nreq** - The maximum number of requests to allow while using the Async API\n",
    "\n",
    "The second pass of the application to annotate video with results is run from the command line using the following format:\n",
    "```bash\n",
    "python3 object_detection_annotate.py <arguments...>\n",
    "```\n",
    "The required command line _<arguments...>_ to run the application Python* executable [`object_detection_annotate.py`](./object_detection_annotate.py) are:\n",
    "- **-i** - Path to input video file\n",
    "- **-o** - The path to where the output video file will be stored.  Also used with environment variable `PBS_JOBID` to find output text file from application executable\n",
    "- **-f** - Output frame rate scale value (FPS=50.0/<*val*>)\n",
    "- **-s** - Output resolution scale value to (input_w*<*val*>,input_h*<*val*>) "
   ]
  },
  {
   "cell_type": "markdown",
   "metadata": {},
   "source": [
    "#### The labels file\n",
    "\n",
    "In order to label detected objects, the sample application requires a labels file associated with the model being used for detection.  The labels file is a text file containing all the classes/labels that the model can recognize, in the order that it was trained to recognize them (one class per line).  The included labels file `labels.txt`, is intended to be used with the specific `mobilenet-ssd` model that will be used for inference.\n",
    "\n",
    "Below are the contents of the `labels.txt` file that we will be using:\n",
    "```\n",
    "background\n",
    "aeroplane\n",
    "bicycle\n",
    "bird\n",
    "boat\n",
    "bottle\n",
    "bus\n",
    "car\n",
    "cat\n",
    "chair\n",
    "cow\n",
    "diningtable\n",
    "dog\n",
    "horse\n",
    "motorbike\n",
    "person\n",
    "pottedplant\n",
    "sheep\n",
    "sofa\n",
    "train\n",
    "tvmonitor\n",
    "```"
   ]
  },
  {
   "cell_type": "markdown",
   "metadata": {},
   "source": [
    "### Imports\n",
    "We begin by importing all the Python* modules that will be used within this Jupyter* Notebook to run and display the results of the object detection application on the Intel® DevCloud for the Edge:\n",
    "- [os](https://docs.python.org/3/library/os.html#module-os) - Operating system specific module (used for file name parsing)\n",
    "- [time](https://docs.python.org/3/library/time.html#module-time) - Time tracking module (used for measuring execution time)\n",
    "- [matplotlib.pyplot](https://matplotlib.org/) - pyplot is used for displaying output images\n",
    "- [sys](https://docs.python.org/3/library/sys.html#module-sys) - System specific parameters and functions\n",
    "- [qarpo.demoutils](https://github.com/ColfaxResearch/qarpo) - Provides utilities for displaying results and managing jobs from within this Jupyter* Notebook\n",
    "\n",
    "Run the following cell to import the Python* dependencies needed.\n",
    "\n",
    "<br><div class=tip><b>Tip: </b>Select a cell and then use **Ctrl+Enter** to run that cell.</div>"
   ]
  },
  {
   "cell_type": "code",
   "execution_count": 1,
   "metadata": {},
   "outputs": [
    {
     "name": "stdout",
     "output_type": "stream",
     "text": [
      "Imported Python modules successfully.\n",
      "/data/venv/openvino_2022.1.0.643-tensorflow_1.15.5\n"
     ]
    }
   ],
   "source": [
    "import matplotlib.pyplot as plt\n",
    "import os\n",
    "import time\n",
    "import sys\n",
    "from qarpo.demoutils import *\n",
    "from qarpo.model_visualizer_link import *\n",
    "print('Imported Python modules successfully.')\n",
    "!echo $VENV_PATH"
   ]
  },
  {
   "cell_type": "markdown",
   "metadata": {},
   "source": [
    "### Create the IR files for the inference model\n",
    "\n",
    "The Intel® Distribution of OpenVINO™ toolkit includes the [Model Optimizer](http://docs.openvinotoolkit.org/latest/_docs_MO_DG_Deep_Learning_Model_Optimizer_DevGuide.html) used to convert and optimize trained models into the Intermediate Representation (IR) model files, and the [Inference Engine](http://docs.openvinotoolkit.org/latest/_docs_IE_DG_Deep_Learning_Inference_Engine_DevGuide.html) that uses the IR model files to run inference on hardware devices.  The IR model files can be created from trained models from popular frameworks (e.g. Caffe\\*, Tensorflow*, etc.). \n",
    "The Intel® Distribution of OpenVINO™ toolkit also includes the [Model Downloader](http://docs.openvinotoolkit.org/latest/_tools_downloader_README.html) utility  to download some common inference models from the [Open Model Zoo](https://github.com/opencv/open_model_zoo). \n",
    "\n",
    "Run the following cell to run the Model Downloader utility with the `--print_all` argument to see all the available inference models."
   ]
  },
  {
   "cell_type": "code",
   "execution_count": 2,
   "metadata": {
    "scrolled": true,
    "tags": []
   },
   "outputs": [
    {
     "name": "stdout",
     "output_type": "stream",
     "text": [
      "Sphereface\n",
      "aclnet\n",
      "aclnet-int8\n",
      "action-recognition-0001\n",
      "age-gender-recognition-retail-0013\n",
      "alexnet\n",
      "anti-spoof-mn3\n",
      "asl-recognition-0004\n",
      "background-matting-mobilenetv2\n",
      "bert-base-ner\n",
      "bert-large-uncased-whole-word-masking-squad-0001\n",
      "bert-large-uncased-whole-word-masking-squad-emb-0001\n",
      "bert-large-uncased-whole-word-masking-squad-int8-0001\n",
      "bert-small-uncased-whole-word-masking-squad-0001\n",
      "bert-small-uncased-whole-word-masking-squad-0002\n",
      "bert-small-uncased-whole-word-masking-squad-emb-int8-0001\n",
      "bert-small-uncased-whole-word-masking-squad-int8-0002\n",
      "brain-tumor-segmentation-0001\n",
      "brain-tumor-segmentation-0002\n",
      "caffenet\n",
      "cocosnet\n",
      "colorization-siggraph\n",
      "colorization-v2\n",
      "common-sign-language-0001\n",
      "common-sign-language-0002\n",
      "ctdet_coco_dlav0_512\n",
      "ctpn\n",
      "deblurgan-v2\n",
      "deeplabv3\n",
      "densenet-121\n",
      "densenet-121-tf\n",
      "detr-resnet50\n",
      "dla-34\n",
      "driver-action-recognition-adas-0002\n",
      "drn-d-38\n",
      "efficientdet-d0-tf\n",
      "efficientdet-d1-tf\n",
      "efficientnet-b0\n",
      "efficientnet-b0-pytorch\n",
      "efficientnet-v2-b0\n",
      "efficientnet-v2-s\n",
      "emotions-recognition-retail-0003\n",
      "f3net\n",
      "face-detection-0200\n",
      "face-detection-0202\n",
      "face-detection-0204\n",
      "face-detection-0205\n",
      "face-detection-0206\n",
      "face-detection-adas-0001\n",
      "face-detection-retail-0004\n",
      "face-detection-retail-0005\n",
      "face-detection-retail-0044\n",
      "face-recognition-resnet100-arcface-onnx\n",
      "face-reidentification-retail-0095\n",
      "faceboxes-pytorch\n",
      "facenet-20180408-102900\n",
      "facial-landmarks-35-adas-0002\n",
      "facial-landmarks-98-detection-0001\n",
      "fast-neural-style-mosaic-onnx\n",
      "faster-rcnn-resnet101-coco-sparse-60-0001\n",
      "faster_rcnn_inception_resnet_v2_atrous_coco\n",
      "faster_rcnn_resnet50_coco\n",
      "fastseg-large\n",
      "fastseg-small\n",
      "fbcnn\n",
      "fcrn-dp-nyu-depth-v2-tf\n",
      "formula-recognition-medium-scan-0001\n",
      "formula-recognition-polynomials-handwritten-0001\n",
      "forward-tacotron\n",
      "gaze-estimation-adas-0002\n",
      "gmcnn-places2-tf\n",
      "googlenet-v1\n",
      "googlenet-v1-tf\n",
      "googlenet-v2\n",
      "googlenet-v2-tf\n",
      "googlenet-v3\n",
      "googlenet-v3-pytorch\n",
      "googlenet-v4-tf\n",
      "gpt-2\n",
      "handwritten-english-recognition-0001\n",
      "handwritten-japanese-recognition-0001\n",
      "handwritten-score-recognition-0003\n",
      "handwritten-simplified-chinese-recognition-0001\n",
      "hbonet-0.25\n",
      "hbonet-1.0\n",
      "head-pose-estimation-adas-0001\n",
      "higher-hrnet-w32-human-pose-estimation\n",
      "horizontal-text-detection-0001\n",
      "hrnet-v2-c1-segmentation\n",
      "human-pose-estimation-0001\n",
      "human-pose-estimation-0005\n",
      "human-pose-estimation-0006\n",
      "human-pose-estimation-0007\n",
      "human-pose-estimation-3d-0001\n",
      "hybrid-cs-model-mri\n",
      "i3d-rgb-tf\n",
      "icnet-camvid-ava-0001\n",
      "icnet-camvid-ava-sparse-30-0001\n",
      "icnet-camvid-ava-sparse-60-0001\n",
      "image-retrieval-0001\n",
      "inception-resnet-v2-tf\n",
      "instance-segmentation-person-0007\n",
      "instance-segmentation-security-0002\n",
      "instance-segmentation-security-0091\n",
      "instance-segmentation-security-0228\n",
      "instance-segmentation-security-1039\n",
      "instance-segmentation-security-1040\n",
      "landmarks-regression-retail-0009\n",
      "license-plate-recognition-barrier-0001\n",
      "license-plate-recognition-barrier-0007\n",
      "machine-translation-nar-de-en-0002\n",
      "machine-translation-nar-en-de-0002\n",
      "machine-translation-nar-en-ru-0002\n",
      "machine-translation-nar-ru-en-0002\n",
      "mask_rcnn_inception_resnet_v2_atrous_coco\n",
      "mask_rcnn_resnet50_atrous_coco\n",
      "midasnet\n",
      "mixnet-l\n",
      "mobilefacedet-v1-mxnet\n",
      "mobilenet-ssd\n",
      "mobilenet-v1-0.25-128\n",
      "mobilenet-v1-1.0-224\n",
      "mobilenet-v1-1.0-224-tf\n",
      "mobilenet-v2\n",
      "mobilenet-v2-1.0-224\n",
      "mobilenet-v2-1.4-224\n",
      "mobilenet-v2-pytorch\n",
      "mobilenet-v3-large-1.0-224-tf\n",
      "mobilenet-v3-small-1.0-224-tf\n",
      "mobilenet-yolo-v4-syg\n",
      "mozilla-deepspeech-0.6.1\n",
      "mozilla-deepspeech-0.8.2\n",
      "mtcnn\n",
      "netvlad-tf\n",
      "nfnet-f0\n",
      "noise-suppression-denseunet-ll-0001\n",
      "noise-suppression-poconetlike-0001\n",
      "ocrnet-hrnet-w48-paddle\n",
      "octave-resnet-26-0.25\n",
      "open-closed-eye-0001\n",
      "pedestrian-and-vehicle-detector-adas-0001\n",
      "pedestrian-detection-adas-0002\n",
      "pelee-coco\n",
      "person-attributes-recognition-crossroad-0230\n",
      "person-attributes-recognition-crossroad-0234\n",
      "person-attributes-recognition-crossroad-0238\n",
      "person-detection-0106\n",
      "person-detection-0200\n",
      "person-detection-0201\n",
      "person-detection-0202\n",
      "person-detection-0203\n",
      "person-detection-0301\n",
      "person-detection-0302\n",
      "person-detection-0303\n",
      "person-detection-action-recognition-0005\n",
      "person-detection-action-recognition-0006\n",
      "person-detection-action-recognition-teacher-0002\n",
      "person-detection-asl-0001\n",
      "person-detection-raisinghand-recognition-0001\n",
      "person-detection-retail-0002\n",
      "person-detection-retail-0013\n",
      "person-reidentification-retail-0277\n",
      "person-reidentification-retail-0286\n",
      "person-reidentification-retail-0287\n",
      "person-reidentification-retail-0288\n",
      "person-vehicle-bike-detection-2000\n",
      "person-vehicle-bike-detection-2001\n",
      "person-vehicle-bike-detection-2002\n",
      "person-vehicle-bike-detection-2003\n",
      "person-vehicle-bike-detection-2004\n",
      "person-vehicle-bike-detection-crossroad-0078\n",
      "person-vehicle-bike-detection-crossroad-1016\n",
      "person-vehicle-bike-detection-crossroad-yolov3-1020\n",
      "product-detection-0001\n",
      "pspnet-pytorch\n",
      "quartznet-15x5-en\n",
      "regnetx-3.2gf\n",
      "repvgg-a0\n",
      "repvgg-b1\n",
      "repvgg-b3\n",
      "resnest-50-pytorch\n",
      "resnet-18-pytorch\n",
      "resnet-34-pytorch\n",
      "resnet-50-pytorch\n",
      "resnet-50-tf\n",
      "resnet18-xnor-binary-onnx-0001\n",
      "resnet50-binary-0001\n",
      "retinaface-resnet50-pytorch\n",
      "retinanet-tf\n",
      "rexnet-v1-x1.0\n",
      "rfcn-resnet101-coco-tf\n",
      "road-segmentation-adas-0001\n",
      "robust-video-matting-mobilenetv3\n",
      "se-inception\n",
      "se-resnet-50\n",
      "se-resnext-50\n",
      "semantic-segmentation-adas-0001\n",
      "shufflenet-v2-x0.5\n",
      "shufflenet-v2-x1.0\n",
      "single-human-pose-estimation-0001\n",
      "single-image-super-resolution-1032\n",
      "single-image-super-resolution-1033\n",
      "smartlab-object-detection-0001\n",
      "smartlab-object-detection-0002\n",
      "smartlab-object-detection-0003\n",
      "smartlab-object-detection-0004\n",
      "smartlab-sequence-modelling-0001\n",
      "squeezenet1.0\n",
      "squeezenet1.1\n",
      "ssd-resnet34-1200-onnx\n",
      "ssd300\n",
      "ssd512\n",
      "ssd_mobilenet_v1_coco\n",
      "ssd_mobilenet_v1_fpn_coco\n",
      "ssdlite_mobilenet_v2\n",
      "swin-tiny-patch4-window7-224\n",
      "t2t-vit-14\n",
      "text-detection-0003\n",
      "text-detection-0004\n",
      "text-image-super-resolution-0001\n",
      "text-recognition-0012\n",
      "text-recognition-0014\n",
      "text-recognition-0015\n",
      "text-recognition-0016\n",
      "text-recognition-resnet-fc\n",
      "text-spotting-0005\n",
      "text-to-speech-en-0001\n",
      "text-to-speech-en-multi-0001\n",
      "time-series-forecasting-electricity-0001\n",
      "ultra-lightweight-face-detection-rfb-320\n",
      "ultra-lightweight-face-detection-slim-320\n",
      "unet-camvid-onnx-0001\n",
      "vehicle-attributes-recognition-barrier-0039\n",
      "vehicle-attributes-recognition-barrier-0042\n",
      "vehicle-detection-0200\n",
      "vehicle-detection-0201\n",
      "vehicle-detection-0202\n",
      "vehicle-detection-adas-0002\n",
      "vehicle-license-plate-detection-barrier-0106\n",
      "vehicle-license-plate-detection-barrier-0123\n",
      "vehicle-reid-0001\n",
      "vgg16\n",
      "vgg19\n",
      "vitstr-small-patch16-224\n",
      "wav2vec2-base\n",
      "wavernn\n",
      "weld-porosity-detection-0001\n",
      "yolact-resnet50-fpn-pytorch\n",
      "yolo-v1-tiny-tf\n",
      "yolo-v2-ava-0001\n",
      "yolo-v2-ava-sparse-35-0001\n",
      "yolo-v2-ava-sparse-70-0001\n",
      "yolo-v2-tf\n",
      "yolo-v2-tiny-ava-0001\n",
      "yolo-v2-tiny-ava-sparse-30-0001\n",
      "yolo-v2-tiny-ava-sparse-60-0001\n",
      "yolo-v2-tiny-tf\n",
      "yolo-v2-tiny-vehicle-detection-0001\n",
      "yolo-v3-onnx\n",
      "yolo-v3-tf\n",
      "yolo-v3-tiny-onnx\n",
      "yolo-v3-tiny-tf\n",
      "yolo-v4-tf\n",
      "yolo-v4-tiny-tf\n",
      "yolof\n",
      "yolox-tiny\n"
     ]
    }
   ],
   "source": [
    "!omz_downloader --print_all"
   ]
  },
  {
   "cell_type": "markdown",
   "metadata": {},
   "source": [
    "<br><div class=tip><i><b>Tip: </b>The '!' at the beginning is a special Jupyter* Notebook command that allows you to run shell commands as if you are at a command line. The above command will also work in a terminal (with the '!' removed).</i></div>\n",
    "\n",
    "Some of these downloaded models are already in the IR format, while others will require the Model Optimizer to be run. For our application, we will be using the [`mobilenet-ssd`](https://github.com/opencv/open_model_zoo/tree/master/models/public/mobilenet-ssd) inference model, which will require being optimization using the Model Optimizer to create the model in the necessary IR format neede by the Inference Engine to run. \n",
    "\n",
    "The format for the Model Downloader command to download a model is:\n",
    "```bash\n",
    "/opt/intel/openvino/deployment_tools/tools/model_downloader/downloader.py \\\n",
    "    --name <model_name> -o <output_directory>\n",
    "```\n",
    "The input arguments are as follows:\n",
    "- **--name** : The name of the model you want to download. It should be one of the models listed in the previous cell.\n",
    "- **-o** : The output directory where to store the downloaded model. If the directory does not exist, it will be created.\n",
    "\n",
    "Run the following cell to download the `mobilenet-ssd` model to the `./raw_models` directory relative to the location of this Jupyter* Notebook."
   ]
  },
  {
   "cell_type": "code",
   "execution_count": 3,
   "metadata": {},
   "outputs": [
    {
     "name": "stdout",
     "output_type": "stream",
     "text": [
      "\\nAll files that were downloaded:\n",
      "./raw_models\n",
      "./raw_models/public\n",
      "./raw_models/public/mobilenet-ssd\n",
      "./raw_models/public/mobilenet-ssd/mobilenet-ssd.prototxt\n",
      "./raw_models/public/mobilenet-ssd/mobilenet-ssd.caffemodel\n"
     ]
    }
   ],
   "source": [
    "#!downloader.py --name mobilenet-ssd -o raw_models\n",
    "!mkdir -p raw_models/public\n",
    "!cp -r  /data/reference-sample-data/raw_models/mobilenet-ssd raw_models/public\n",
    "!echo \"\\nAll files that were downloaded:\"\n",
    "!find ./raw_models"
   ]
  },
  {
   "cell_type": "markdown",
   "metadata": {},
   "source": [
    "To view a graph of the model used in this application, run the cell below then select the link generated:"
   ]
  },
  {
   "cell_type": "code",
   "execution_count": 4,
   "metadata": {},
   "outputs": [
    {
     "data": {
      "application/vnd.jupyter.widget-view+json": {
       "model_id": "211645774f554486abb6f0221fd8809e",
       "version_major": 2,
       "version_minor": 0
      },
      "text/plain": [
       "HTML(value='View model graph:  <span title=\"View model\">&#128065; </span><a target=\\'_blank\\' href=\\'/services…"
      ]
     },
     "metadata": {},
     "output_type": "display_data"
    }
   ],
   "source": [
    "showModelVisualizerLink(\"raw_models/public/mobilenet-ssd/mobilenet-ssd.caffemodel\")"
   ]
  },
  {
   "cell_type": "markdown",
   "metadata": {},
   "source": [
    "As shown above from the output of the last `!find...` command, the necessary model files created using the Caffe* framework have been downloaded:\n",
    "- **mobilenet-ssd.prototxt** - The deployed [Protocol Buffer](https://developers.google.com/protocol-buffers) file that describes the network architecture to run inference\n",
    "- **mobilenet-ssd.caffemodel** - Binary containing trained weights\n",
    "\n",
    "These files will need to be optimized using the Model Optimizer to create the necessary IR files.  We will be running the inference model on different hardware devices which have different requirements on the precision of the model (see [Inference Engine Supported Model Formats](https://docs.openvinotoolkit.org/latest/_docs_IE_DG_supported_plugins_Supported_Devices.html#supported_model_formats) for details).  For our purposes, we will focus on the use of the two most common precisions, FP32 and FP16.\n",
    "\n",
    "For this model, we will run the Model Optimizer using the format:\n",
    "```bash\n",
    "mo \\\n",
    "    --input_model <path_to_caffemodel> \\\n",
    "    --data_type <data_precision> \\\n",
    "    --output_dir <path_to_output_directory> \\\n",
    "    --scale <scale_value> \\\n",
    "    --mean_values [<channel_mean_values>] \n",
    "```\n",
    "\n",
    "The input arguments are as follows:\n",
    "- **--input_model** : The model's input *.caffemodel* file  (the *.prototxt* with the same base name will be automatically found, otherwise the `--input_proto` argument would need to be specified)\n",
    "- **--data_type** : The model's data type and precision (e.g. FP16, FP32, INT8, etc.)\n",
    "- **--output_dir** : Output directory where to store the generated IR model files\n",
    "- **--scale** : Scaling (divide by) value to apply to input values\n",
    "- **--mean_values** : Mean values (one per channel) to be subtracted from input values before scaling\n",
    "\n",
    "\n",
    "For converting our model, we will use the typical scaling value `256` and mean values `[127,127,127]` used with Caffe* models.  The complete command will look like the following:\n",
    "```bash\n",
    "!mo \\\n",
    "    --input_model raw_models/public/mobilenet-ssd/mobilenet-ssd.caffemodel \\\n",
    "    --data_type <data_precision> \\\n",
    "    --output_dir models/mobilenet-ssd/<data_precision> \\\n",
    "    --scale 256 \\\n",
    "    --mean_values [127,127,127] \n",
    "```\n",
    "We will run the command twice, first with <*data_precision*> set to `FP16` and then `FP32` to get all the IR files we will need to run inference on different devices.\n",
    "\n",
    "<br><div class=note><i><b>Note: </b>More information on how to use Model Optimizer to convert Caffe* models may be found at:[Converting a Caffe* Model](https://docs.openvinotoolkit.org/latest/_docs_MO_DG_prepare_model_convert_model_Convert_Model_From_Caffe.html)</i></div>"
   ]
  },
  {
   "cell_type": "markdown",
   "metadata": {},
   "source": [
    "Run the following cell to use the Model Optimizer to create the `FP16` and `FP32` model IR files:"
   ]
  },
  {
   "cell_type": "code",
   "execution_count": 5,
   "metadata": {
    "scrolled": true
   },
   "outputs": [
    {
     "name": "stdout",
     "output_type": "stream",
     "text": [
      "Model Optimizer arguments:\n",
      "Common parameters:\n",
      "\t- Path to the Input Model: \t/home/u58506/ai_workshop/Lab3/object-detection-POT-Heterogeneity/raw_models/public/mobilenet-ssd/mobilenet-ssd.caffemodel\n",
      "\t- Path for generated IR: \t/home/u58506/ai_workshop/Lab3/object-detection-POT-Heterogeneity/models/mobilenet-ssd/FP16\n",
      "\t- IR output name: \tmobilenet-ssd\n",
      "\t- Log level: \tERROR\n",
      "\t- Batch: \tNot specified, inherited from the model\n",
      "\t- Input layers: \tNot specified, inherited from the model\n",
      "\t- Output layers: \tNot specified, inherited from the model\n",
      "\t- Input shapes: \tNot specified, inherited from the model\n",
      "\t- Source layout: \tNot specified\n",
      "\t- Target layout: \tNot specified\n",
      "\t- Layout: \tNot specified\n",
      "\t- Mean values: \t[127,127,127]\n",
      "\t- Scale values: \tNot specified\n",
      "\t- Scale factor: \t256.0\n",
      "\t- Precision of IR: \tFP16\n",
      "\t- Enable fusing: \tTrue\n",
      "\t- User transformations: \tNot specified\n",
      "\t- Reverse input channels: \tFalse\n",
      "\t- Enable IR generation for fixed input shape: \tFalse\n",
      "\t- Use the transformations config file: \tNone\n",
      "Advanced parameters:\n",
      "\t- Force the usage of legacy Frontend of Model Optimizer for model conversion into IR: \tFalse\n",
      "\t- Force the usage of new Frontend of Model Optimizer for model conversion into IR: \tFalse\n",
      "Caffe specific parameters:\n",
      "\t- Path to Python Caffe* parser generated from caffe.proto: \t/data/venv/openvino_2022.1.0.643-tensorflow_1.15.5/lib/python3.6/site-packages/openvino/tools/mo/utils/../front/caffe/proto\n",
      "\t- Enable resnet optimization: \tTrue\n",
      "\t- Path to the Input prototxt: \t/home/u58506/ai_workshop/Lab3/object-detection-POT-Heterogeneity/raw_models/public/mobilenet-ssd/mobilenet-ssd.prototxt\n",
      "\t- Path to CustomLayersMapping.xml: \t/data/venv/openvino_2022.1.0.643-tensorflow_1.15.5/lib/python3.6/site-packages/openvino/tools/mo/utils/../../extensions/front/caffe/CustomLayersMapping.xml\n",
      "\t- Path to a mean file: \tNot specified\n",
      "\t- Offsets for a mean file: \tNot specified\n",
      "OpenVINO runtime found in: \t/data/venv/openvino_2022.1.0.643-tensorflow_1.15.5/lib/python3.6/site-packages/openvino\n",
      "OpenVINO runtime version: \t2022.1.0-7009-19bdd019745-refs/pull/1012/head\n",
      "Model Optimizer version: \t2022.1.0-7009-19bdd019745-refs/pull/1012/head\n",
      "[ WARNING ]  \n",
      "Detected not satisfied dependencies:\n",
      "\tnetworkx: installed: 2.5.1, required: ~= 2.6\n",
      "\n",
      "Please install required versions of components or run pip installation\n",
      "pip install openvino-dev[caffe]\n",
      "[ SUCCESS ] Generated IR version 11 model.\n",
      "[ SUCCESS ] XML file: /home/u58506/ai_workshop/Lab3/object-detection-POT-Heterogeneity/models/mobilenet-ssd/FP16/mobilenet-ssd.xml\n",
      "[ SUCCESS ] BIN file: /home/u58506/ai_workshop/Lab3/object-detection-POT-Heterogeneity/models/mobilenet-ssd/FP16/mobilenet-ssd.bin\n",
      "[ SUCCESS ] Total execution time: 13.69 seconds. \n",
      "[ SUCCESS ] Memory consumed: 167 MB. \n",
      "It's been a while, check for a new version of Intel(R) Distribution of OpenVINO(TM) toolkit here https://software.intel.com/content/www/us/en/develop/tools/openvino-toolkit/download.html?cid=other&source=prod&campid=ww_2022_bu_IOTG_OpenVINO-2022-1&content=upg_all&medium=organic or on the GitHub*\n",
      "[ INFO ] The model was converted to IR v11, the latest model format that corresponds to the source DL framework input/output format. While IR v11 is backwards compatible with OpenVINO Inference Engine API v1.0, please use API v2.0 (as of 2022.1) to take advantage of the latest improvements in IR v11.\n",
      "Find more information about API v2.0 and IR v11 at https://docs.openvino.ai\n",
      "Model Optimizer arguments:\n",
      "Common parameters:\n",
      "\t- Path to the Input Model: \t/home/u58506/ai_workshop/Lab3/object-detection-POT-Heterogeneity/raw_models/public/mobilenet-ssd/mobilenet-ssd.caffemodel\n",
      "\t- Path for generated IR: \t/home/u58506/ai_workshop/Lab3/object-detection-POT-Heterogeneity/models/mobilenet-ssd/FP32\n",
      "\t- IR output name: \tmobilenet-ssd\n",
      "\t- Log level: \tERROR\n",
      "\t- Batch: \tNot specified, inherited from the model\n",
      "\t- Input layers: \tNot specified, inherited from the model\n",
      "\t- Output layers: \tNot specified, inherited from the model\n",
      "\t- Input shapes: \tNot specified, inherited from the model\n",
      "\t- Source layout: \tNot specified\n",
      "\t- Target layout: \tNot specified\n",
      "\t- Layout: \tNot specified\n",
      "\t- Mean values: \t[127,127,127]\n",
      "\t- Scale values: \tNot specified\n",
      "\t- Scale factor: \t256.0\n",
      "\t- Precision of IR: \tFP32\n",
      "\t- Enable fusing: \tTrue\n",
      "\t- User transformations: \tNot specified\n",
      "\t- Reverse input channels: \tFalse\n",
      "\t- Enable IR generation for fixed input shape: \tFalse\n",
      "\t- Use the transformations config file: \tNone\n",
      "Advanced parameters:\n",
      "\t- Force the usage of legacy Frontend of Model Optimizer for model conversion into IR: \tFalse\n",
      "\t- Force the usage of new Frontend of Model Optimizer for model conversion into IR: \tFalse\n",
      "Caffe specific parameters:\n",
      "\t- Path to Python Caffe* parser generated from caffe.proto: \t/data/venv/openvino_2022.1.0.643-tensorflow_1.15.5/lib/python3.6/site-packages/openvino/tools/mo/utils/../front/caffe/proto\n",
      "\t- Enable resnet optimization: \tTrue\n",
      "\t- Path to the Input prototxt: \t/home/u58506/ai_workshop/Lab3/object-detection-POT-Heterogeneity/raw_models/public/mobilenet-ssd/mobilenet-ssd.prototxt\n",
      "\t- Path to CustomLayersMapping.xml: \t/data/venv/openvino_2022.1.0.643-tensorflow_1.15.5/lib/python3.6/site-packages/openvino/tools/mo/utils/../../extensions/front/caffe/CustomLayersMapping.xml\n",
      "\t- Path to a mean file: \tNot specified\n",
      "\t- Offsets for a mean file: \tNot specified\n",
      "OpenVINO runtime found in: \t/data/venv/openvino_2022.1.0.643-tensorflow_1.15.5/lib/python3.6/site-packages/openvino\n",
      "OpenVINO runtime version: \t2022.1.0-7009-19bdd019745-refs/pull/1012/head\n",
      "Model Optimizer version: \t2022.1.0-7009-19bdd019745-refs/pull/1012/head\n",
      "[ WARNING ]  \n",
      "Detected not satisfied dependencies:\n",
      "\tnetworkx: installed: 2.5.1, required: ~= 2.6\n",
      "\n",
      "Please install required versions of components or run pip installation\n",
      "pip install openvino-dev[caffe]\n",
      "[ SUCCESS ] Generated IR version 11 model.\n",
      "[ SUCCESS ] XML file: /home/u58506/ai_workshop/Lab3/object-detection-POT-Heterogeneity/models/mobilenet-ssd/FP32/mobilenet-ssd.xml\n",
      "[ SUCCESS ] BIN file: /home/u58506/ai_workshop/Lab3/object-detection-POT-Heterogeneity/models/mobilenet-ssd/FP32/mobilenet-ssd.bin\n",
      "[ SUCCESS ] Total execution time: 12.02 seconds. \n",
      "[ SUCCESS ] Memory consumed: 167 MB. \n",
      "It's been a while, check for a new version of Intel(R) Distribution of OpenVINO(TM) toolkit here https://software.intel.com/content/www/us/en/develop/tools/openvino-toolkit/download.html?cid=other&source=prod&campid=ww_2022_bu_IOTG_OpenVINO-2022-1&content=upg_all&medium=organic or on the GitHub*\n",
      "[ INFO ] The model was converted to IR v11, the latest model format that corresponds to the source DL framework input/output format. While IR v11 is backwards compatible with OpenVINO Inference Engine API v1.0, please use API v2.0 (as of 2022.1) to take advantage of the latest improvements in IR v11.\n",
      "Find more information about API v2.0 and IR v11 at https://docs.openvino.ai\n",
      "\\nAll IR files that were created:\n",
      "./models/mobilenet-ssd/FP16/mobilenet-ssd.bin\n",
      "./models/mobilenet-ssd/FP16/mobilenet-ssd.xml\n",
      "./models/mobilenet-ssd/INT8/optimized/mobilenet-ssd.bin\n",
      "./models/mobilenet-ssd/INT8/optimized/mobilenet-ssd.xml\n",
      "./models/mobilenet-ssd/FP32/mobilenet-ssd.bin\n",
      "./models/mobilenet-ssd/FP32/mobilenet-ssd.xml\n"
     ]
    }
   ],
   "source": [
    "# Create FP16 IR files\n",
    "!mo \\\n",
    "--input_model raw_models/public/mobilenet-ssd/mobilenet-ssd.caffemodel \\\n",
    "--data_type FP16 \\\n",
    "--output_dir models/mobilenet-ssd/FP16 \\\n",
    "--scale 256 \\\n",
    "--mean_values [127,127,127] \n",
    "\n",
    "# Create FP32 IR files\n",
    "!mo \\\n",
    "--input_model raw_models/public/mobilenet-ssd/mobilenet-ssd.caffemodel \\\n",
    "--data_type FP32 \\\n",
    "--output_dir models/mobilenet-ssd/FP32 \\\n",
    "--scale 256 \\\n",
    "--mean_values [127,127,127] \n",
    "\n",
    "# find all resulting IR files\n",
    "!echo \"\\nAll IR files that were created:\"\n",
    "!find ./models -name \"*.xml\" -o -name \"*.bin\" "
   ]
  },
  {
   "cell_type": "markdown",
   "metadata": {},
   "source": [
    "As shown above from the output of the last `!find...` command, the required sets of IR model files (`*.xml` and `*.bin`) have been created.  "
   ]
  },
  {
   "cell_type": "markdown",
   "metadata": {},
   "source": [
    "### Create INT8 precision IR  using Post-Training Optimization Toolkit (POT)"
   ]
  },
  {
   "cell_type": "markdown",
   "metadata": {},
   "source": [
    "The Post-Training Optimization Toolkit is designed to convert a model into a more hardware-accelerated representation by applying specific methods that do not require re-training, for example, post-training quantization.\n",
    "\n",
    "In this example, we wil take the FP32 precision model IR from the previous section convert it to INT8 precision model IR using **defaultquantization** which is the fast method of quantization. Their are other quantization algorithms and techniques to optimize your model check [here](https://docs.openvinotoolkit.org/latest/_README.html) for more information.\n",
    "\n",
    "Optionally, to use this sample with another model and dataset you will need to take a look at the config files in the config folder and supply the proper paths to the data."
   ]
  },
  {
   "cell_type": "markdown",
   "metadata": {},
   "source": [
    "#### Execute Post-Training Optimization Tool\n",
    "\n",
    "To get familiar with the arguments let's run the Post-training Optimization Toolkit usage menu. Then we will run the tool to convert the FP32 IR generated above to INT8 IR."
   ]
  },
  {
   "cell_type": "markdown",
   "metadata": {},
   "source": [
    "### Run inference\n",
    "The following sections will go through the steps to run our inference application on the Intel® DevCloud for the Edge. "
   ]
  },
  {
   "cell_type": "markdown",
   "metadata": {},
   "source": [
    "#### Configure input\n",
    "For convenience and consistency, in the next cell we set the Python* variable `InputVideo` to the input video file we will be using to run our sample application.  In addition, the variable `NumRequests_*` is set to maximum number of inference requests to make for each architecture while using the Async API.  The variables `NumRequests_*` are set accordingly to improve performance.  \n",
    "\n",
    "<br><div class=note><i><b>Note: </b>\n",
    "If you want to use a different input video, change the path in the following cell to the path of the video and run the cell again.  Also, if you want to change the number of inference requests, make the necessary change in the following cell and run the cell again.\n",
    "</i></div>"
   ]
  },
  {
   "cell_type": "code",
   "execution_count": 6,
   "metadata": {},
   "outputs": [
    {
     "name": "stdout",
     "output_type": "stream",
     "text": [
      "Input video file set to:/data/reference-sample-data/object-detection-python/cars_1900.mp4\n",
      "Number of inference requests for CPU set to:2\n",
      "Number of inference requests for GPU set to:4\n",
      "Number of inference requests for NCS2 set to:4\n",
      "Number of inference requests for HDDL-R set to:128\n"
     ]
    }
   ],
   "source": [
    "# Set the path to the input video to use for the rest of this sample\n",
    "InputVideo = \"/data/reference-sample-data/object-detection-python/cars_1900.mp4\"\n",
    "print(f\"Input video file set to:{InputVideo}\")\n",
    "\n",
    "# Set maximum number of inference requests for CPU when using the Async API\n",
    "NumRequests_CPU = 2\n",
    "print(f\"Number of inference requests for CPU set to:{NumRequests_CPU}\")\n",
    "\n",
    "# Set maximum number of inference requests for CPU when using the Async API\n",
    "NumRequests_GPU = 4\n",
    "print(f\"Number of inference requests for GPU set to:{NumRequests_GPU}\")\n",
    "\n",
    "# Set maximum number of inference requests for NCS2 when using the Async API\n",
    "NumRequests_NCS2 = 4\n",
    "print(f\"Number of inference requests for NCS2 set to:{NumRequests_NCS2}\")\n",
    "\n",
    "# Set maximum number of inference requests for HDDL-R when using the Async API\n",
    "NumRequests_HDDLR = 128\n",
    "print(f\"Number of inference requests for HDDL-R set to:{NumRequests_HDDLR}\")\n"
   ]
  },
  {
   "cell_type": "markdown",
   "metadata": {},
   "source": [
    "#### Optional exercise: View input without inference\n",
    "\n",
    "If you are curious to see the input video, run the following cell to view the original video stream used for inference and this sample."
   ]
  },
  {
   "cell_type": "code",
   "execution_count": 7,
   "metadata": {},
   "outputs": [
    {
     "data": {
      "text/html": [
       "<h2>Cars Video</h2>\n",
       "    \n",
       "    <video alt=\"\" controls autoplay muted height=\"480\"><source src=\"./data/reference-sample-data/object-detection-python/cars_1900.mp4\" type=\"video/mp4\" /></video>\n",
       "    "
      ],
      "text/plain": [
       "<IPython.core.display.HTML object>"
      ]
     },
     "execution_count": 7,
     "metadata": {},
     "output_type": "execute_result"
    }
   ],
   "source": [
    "# create link and adjust video path to be able to display from /data using videoHTML()\n",
    "!ln -sfn /data data\n",
    "videoHTML('Cars Video', [\".\"+InputVideo if InputVideo.startswith('/') else InputVideo])"
   ]
  },
  {
   "cell_type": "markdown",
   "metadata": {},
   "source": [
    "#### Optional adjustment of output video frame rate and size\n",
    "\n",
    "Video rendering is performed by the separate Python* executable `object_detection_annotate.py` at the end of the job script. To reduce rendering time, you may reduce the output video quality using the `SCALE_FRAME_RATE` and `SCALE_RESOLUTION` variables. \n",
    "\n",
    "- Setting `SCALE_FRAME_RATE` to:\n",
    " - =1 writes all processed video frames with bounding boxes into the output video. This is the slowest option and it preserves all inferred data in the output video stream.  \n",
    " - =2 writes every other frame of the processed frames into the output video.  This scales the number of output video frames by half (1/2).\n",
    "\n",
    "\n",
    "- Setting `SCALE_RESOLUTION` to:\n",
    " - =1 produces the output video with the same resolution as the input video.  This is the slowest option.\n",
    " - <1 reduces the output video resolution. In the job script we have `SCALE_RESOLUTION=0.5` which sets the output video resolution in each dimension to 50% of the input video's resolution.\n",
    "\n",
    "<br><div class=note><i><b>Note: </b>Changes to `SCALE_FRAME_RATE` or `SCALE_RESOLUTION` are made to the job file which appears in a later section and the job file must be written whenever changes are made.</i></div>"
   ]
  },
  {
   "cell_type": "markdown",
   "metadata": {},
   "source": [
    "#### Create the job file\n",
    "We will run inference on several different edge compute nodes present in the Intel® DevCloud for the Edge. We will send work to the edge compute nodes by submitting the corresponding non-interactive jobs into a queue. For each job, we will specify the type of the edge compute server that must be allocated for the job.\n",
    "\n",
    "The job file is a [Bash](https://www.gnu.org/software/bash/) script that serves as a wrapper around the Python* executable of our application that will be executed directly on the edge compute node.  One purpose of the job file is to simplify running an application on different compute nodes by accepting a few arguments and then performing accordingly any necessary steps before and after running the application executable.  \n",
    "\n",
    "For this sample, the job file we will be using is already written for you and appears in the next cell.  The job file will be submitted as if it were run from the command line using the following format:\n",
    "```bash\n",
    "object_detection_job.sh <output_directory> <device> <fp_precision> <input_file> <num_reqs>\n",
    "```\n",
    "Where the job file input arguments are:\n",
    "- <*output_directory*> - Output directory to use to store output files\n",
    "- <*device*> - Hardware device to use (e.g. CPU, GPU, etc.)\n",
    "- <*fp_precision*> - Which floating point precision inference model to use (FP32 or FP16)\n",
    "- <*input_file*> - Path to input video file\n",
    "- <*num_reqs*> - The maximum number of requests to allow while using the Async API\n",
    "\n",
    "Based on the input arguments, the job file will do the following:\n",
    "- Change to the working directory `PBS_O_WORKDIR` where this Jupyter* Notebook and other files appear on the compute node\n",
    "- Create the <*output_directory*>\n",
    "- Choose the appropriate inference model IR file for the specified <*fp_precision*>\n",
    "- Run the application Python* executable with the appropriate command line arguments\n",
    "- Run the application annotator Python* executable with the appropriate command line arguments\n",
    "\n",
    "Run the following cell to create the `object_detection_job.sh` job file.  The [`%%writefile`](https://ipython.readthedocs.io/en/stable/interactive/magics.html#cellmagic-writefile) line at the top will write the cell contents to the specified job file `object_detection_job.sh`."
   ]
  },
  {
   "cell_type": "code",
   "execution_count": 8,
   "metadata": {},
   "outputs": [
    {
     "name": "stdout",
     "output_type": "stream",
     "text": [
      "Overwriting object_detection_job.sh\n"
     ]
    }
   ],
   "source": [
    "%%writefile object_detection_job.sh\n",
    "\n",
    "# Store input arguments: <output_directory> <device> <fp_precision> <input_file> <num_reqs>\n",
    "OUTPUT_FILE=$1\n",
    "DEVICE=$2\n",
    "FP_MODEL=$3\n",
    "INPUT_FILE=$4\n",
    "NUM_REQS=$5\n",
    "\n",
    "echo VENV_PATH=$VENV_PATH\n",
    "echo OPENVINO_RUNTIME=$OPENVINO_RUNTIME\n",
    "echo INPUT_FILE=$INPUT_FILE\n",
    "echo FP_MODEL=$FP_MODEL\n",
    "echo INPUT_TILE=$INPUT_FILE\n",
    "echo NUM_REQS=$NUM_REQS\n",
    "\n",
    "# Follow this order of setting up environment for openVINO 2022.1.0.553\n",
    "echo \"Activating a Python virtual environment from ${VENV_PATH}...\"\n",
    "source ${VENV_PATH}/bin/activate\n",
    "echo \"Activating OpenVINO variables from ${OPENVINO_RUNTIME}...\"\n",
    "source ${OPENVINO_RUNTIME}/setupvars.sh\n",
    "\n",
    "\n",
    "# The default path for the job is the user's home directory,\n",
    "#  change directory to where the files are.\n",
    "cd $PBS_O_WORKDIR\n",
    "\n",
    "# Make sure that the output directory exists.\n",
    "mkdir -p $OUTPUT_FILE\n",
    "\n",
    "# Set inference model IR files using specified precision\n",
    "MODELPATH=models/mobilenet-ssd/${FP_MODEL}/mobilenet-ssd.xml\n",
    "LABEL_FILE=./labels.txt\n",
    "\n",
    "# Run the object detection code\n",
    "python3 object_detection.py -m $MODELPATH \\\n",
    "                            -i $INPUT_FILE \\\n",
    "                            -o $OUTPUT_FILE \\\n",
    "                            -d $DEVICE \\\n",
    "                            -nireq $NUM_REQS \\\n",
    "                            --labels $LABEL_FILE\n",
    "\n",
    "# Run the output video annotator code\n",
    "SCALE_FRAME_RATE=1    # scale number or output frames to input frames\n",
    "SCALE_RESOLUTION=0.5  # scale output frame resolution \n",
    "python3 object_detection_annotate.py -i $INPUT_FILE \\\n",
    "                                     -o $OUTPUT_FILE \\\n",
    "                                     -f $SCALE_FRAME_RATE \\\n",
    "                                     -s $SCALE_RESOLUTION\n"
   ]
  },
  {
   "cell_type": "markdown",
   "metadata": {},
   "source": [
    "#### How to submit a job\n",
    "\n",
    "Now that we have the job script, we can submit jobs to edge compute nodes in the Intel® DevCloud for the Edge.  To submit a job, the `qsub` command is used with the following format:\n",
    "```bash\n",
    "qsub <job_file> -N <JobName> -l <nodes> -F \"<job_file_arguments>\" \n",
    "```\n",
    "We can submit object_detection_job.sh to several different types of edge compute nodes simultaneously or just one node at a time.\n",
    "\n",
    "There are three options of `qsub` command that we use for this:\n",
    "- <*job_file*> - This is the job file we created in the previous step\n",
    "- `-N` <*JobName*> : Sets name specific to the job so that it is easier to distinguish  between it and other jobs\n",
    "- `-l` <*nodes*> - Specifies the number and the type of nodes using the format *nodes*=<*node_count*>:<*property*>[:<*property*>...]\n",
    "- `-F` \"<*job_file_arguments*>\" - String containing the input arguments described in the previous step to use when running the job file\n",
    "\n",
    "*(Optional)*: To see the available types of nodes on the Intel® DevCloud for the Edge, run the following cell."
   ]
  },
  {
   "cell_type": "code",
   "execution_count": 9,
   "metadata": {},
   "outputs": [
    {
     "name": "stdout",
     "output_type": "stream",
     "text": [
      "     15 idc001skl,compnode,openvino-latest,intel-core,i5-6500te,intel-hd-530,ram8gb\n",
      "     14 idc002mx8,compnode,openvino-latest,intel-core,i5-6500te,intel-hd-530,ram8gb,myriadx-8-vpu\n",
      "     11 idc004nc2,compnode,openvino-latest,intel-core,i5-6500te,intel-hd-530,ram8gb,myriadx-1-vpu\n",
      "      5 idc006kbl,compnode,openvino-latest,intel-core,i5-7500t,intel-hd-630,ram8gb\n",
      "      5 idc007xv5,compnode,openvino-latest,intel-xeon,e3-1268l-v5,intel-hd-p530,ram32gb\n",
      "      5 idc008u2g,compnode,openvino-latest,intel-atom,e3950,intel-hd-505,ram4gb,myriadx-1-vpu\n",
      "      1 idc009jkl,compnode,openvino-latest,intel-core,i5-7500,intel-hd-630,ram8gb\n",
      "      1 idc010jal,compnode,openvino-latest,intel-celeron,j3355,intel-hd-500,ram4gb\n",
      "      1 idc011ark2250s,compnode,openvino-latest,intel-core,i5-6442eq,intel-hd-530,ram8gb,myriadx-3-vpu\n",
      "      1 idc012ark1220l,compnode,openvino-latest,intel-atom,e3940,intel-hd-500,ram4gb,myriadx-2-vpu\n",
      "      1 idc013ds580,compnode,openvino-latest,intel-atom,e3950,intel-hd-505,ram2gb\n",
      "      4 idc014,compnode,openvino-latest,intel-core,i7-8665ue,intel-uhd-620,ram16gb,myriadx-2-vpu\n",
      "      3 idc015ai5,compnode,openvino-latest,intel-core,i5-8365ue,intel-uhd-620,ram8gb\n",
      "      2 idc016ai7,compnode,openvino-latest,intel-core,i7-8665ue,intel-uhd-620,ram16gb\n",
      "      1 idc017,compnode,openvino-latest,intel-xeon,gold5220r,no-gpu,ram96gb\n",
      "      1 idc018,compnode,openvino-latest,intel-xeon,gold6258r,no-gpu,ram96gb\n",
      "      2 idc021,compnode,openvino-latest,intel-xeon,silver4214r,no-gpu,ram48gb\n",
      "     10 idc022,compnode,openvino-latest,intel-core,i7-10710u,intel-uhd-620,ram16gb\n",
      "      6 idc023,compnode,openvino-latest,intel-core,i5-8365ue,intel-uhd-620,ram8gb,myriadx-2-vpu\n",
      "      1 idc024,compnode,openvino-latest,intel-xeon,gold5220r,no-gpu,ram96gb,myriadx-8-vpu\n",
      "      1 idc026,compnode,openvino-latest,intel-xeon,bronze3206r,no-gpu,ram48gb,myriadx-8-vpu\n",
      "      1 idc027,compnode,openvino-latest,intel-xeon,silver4214r,no-gpu,ram48gb,myriadx-8-vpu\n",
      "      1 idc029,compnode,openvino-latest,intel-core,i7-8665u,intel-uhd-620,ram32gb\n",
      "      1 idc030,compnode,openvino-latest,intel-core,i7-1065g7,iris-plus,ram16gb\n",
      "      1 idc031,compnode,openvino-latest,intel-xeon,e-2286m,intel-uhd-p630,ram32gb,myriadx-8-vpu\n",
      "     14 idc033,compnode,openvino-latest,intel-xeon,e-2286m,intel-uhd-p630,ram32gb\n",
      "      5 idc036,compnode,openvino-latest,intel-core,i9-10900t,intel-uhd-630,ram32gb\n",
      "      5 idc037,compnode,openvino-latest,intel-core,i7-10700t,intel-uhd-630,ram32gb\n",
      "      5 idc038,compnode,openvino-latest,intel-core,i5-8365ue,intel-uhd-620,ram8gb,myriadx-2-vpu\n",
      "      1 idc042,compnode,openvino-latest,intel-core,i5-8500t,intel-uhd-630,ram32gb,myriadx-8-vpu,aaeon,boxer-6842m\n",
      "      1 idc043,compnode,openvino-latest,intel-core,i3-10100te,intel-uhd-630,ram16gb,myriadx-2-vpu,aaeon,genesys-cml5ai\n",
      "      1 idc044,compnode,openvino-latest,intel-atom,intel,atom,e3950,intel-uhd-630,ram8gb,myriadx-1-vpu\n",
      "      5 idc045,compnode,openvino-latest,intel-core,i7-1185g7e,iris-xe-graphics,ram16gb,none\n",
      "      2 idc046,compnode,openvino-latest,intel-core,i5-1145g7e,iris-xe-graphics,ram16gb\n",
      "      1 idc051,compnode,openvino-latest,intel-xeon,gold6314u,none,ram128gb,none,icelake\n",
      "      5 idc052,compnode,openvino-latest,intel-xeon,gold6338n,none,ram128gb,none,icelake\n",
      "      2 idc053,compnode,openvino-latest,intel-xeon,d-2166nt,none,128gb,none\n",
      "      1 idc054,compnode,openvino-latest,intel-core,i7-1165g7,iris-xe-graphics,ram16gb,none\n",
      "      1 idc055,compnode,openvino-latest,intel-core,i5-1145g7e,iris-xe-graphics,ram8gb,none\n",
      "      1 idc056,compnode,openvino-latest,intel-core,i3-1115g4e,intel-uhd-11th-gen,ram8gb,none\n",
      "      1 idc057,compnode,openvino-latest,intel-core,i5-7500t,intel-hd-630,ram8gb,myriadx-1-vpu\n",
      "      2 idc058,compnode,openvino-latest,intel-core,i5-8265u,intel-uhd-8th-gen,ram8gb,none\n",
      "      1 idc060,compnode,openvino-latest,intel-core,i5-8500,intel-uhd-p630,ram16gb,none\n",
      "      1 idc061,compnode,openvino-latest,intel-xeon,e-2176g,intel-uhd-p630,ram16gb,none\n",
      "      1 idc062,compnode,openvino-latest,intel-celeron,6305e,intel-uhd-graphics,ram16gb,none\n",
      "      5 idc063,compnode,openvino-latest,intel-core,xeon,w-1290te,intel-uhd-630,ram16gb,none\n",
      "      2 idc065,compnode,openvino-latest,intel-core,i7-8565u,intel-uhd-8th-gen,ram8gb,none\n",
      "      1 idc066,compnode,openvino-latest,intel-core,i3-8145u,intel-uhd-8th-gen,ram4gb,none\n",
      "      1 idc068,compnode,openvino-latest,intel-core,i7-1185g7e,iris-xe-graphics,ram16gb,none\n",
      "      1 idc069,compnode,openvino-latest,intel-core,i5-1135g7,iris-xe-graphics,ram8gb,none\n",
      "     10 idc070,compnode,openvino-latest,intel-pentium,j6426,intel-uhd-10th-gen,ram4gb,none\n",
      "     10 idc071,compnode,openvino-latest,intel-atom,x6425re,intel-uhd-10th-gen,ram16gb,none\n"
     ]
    }
   ],
   "source": [
    "!pbsnodes | grep compnode | awk '{print $3}' | sort | uniq -c"
   ]
  },
  {
   "cell_type": "markdown",
   "metadata": {},
   "source": [
    "In the above output from executing the previous cell, the properties describe the node, and the number on the left is the number of available nodes of that architecture."
   ]
  },
  {
   "cell_type": "markdown",
   "metadata": {},
   "source": [
    "#### Submit jobs\n",
    "\n",
    "Each of the cells in the subsections below will submit a job to be run on different edge compute nodes. The output of each cell is the _JobID_ for the submitted job.  The _JobID_ can be used to track the status of the job.  After submission, a job will go into a waiting queue before running once the requested compute nodes become available.\n",
    "\n",
    "<br><div class=note><i><b>Note: </b>You may submit all jobs at once or one at a time.</i></div> \n",
    "\n",
    "<br><div class=tip><b>Tip: </b>**Shift+Enter** will run the cell and automatically move you to the next cell. This allows you to use **Shift+Enter** multiple times to quickly run through multiple cells, including markdown cells.</div>"
   ]
  },
  {
   "cell_type": "markdown",
   "metadata": {},
   "source": [
    "##### Submit to an edge compute node with an Intel® CPU\n",
    "In the cell below, we submit a job to an edge node with an [Intel® Core™ i5-6500TE](https://ark.intel.com/products/88186/Intel-Core-i5-6500TE-Processor-6M-Cache-up-to-3-30-GHz.html) processor. The inference workload will run on the CPU.\n",
    "\n",
    " \n",
    "   Currently the job is written to run with **FP32 IR** or if you'd like to run with **INT8 IR** supply the -f argument with INT8/optimized which is the relative path to the INT8 IR.\n"
   ]
  },
  {
   "cell_type": "code",
   "execution_count": 10,
   "metadata": {},
   "outputs": [
    {
     "name": "stdout",
     "output_type": "stream",
     "text": [
      "469225.v-qsvr-1.devcloud-edge\n"
     ]
    },
    {
     "data": {
      "application/vnd.jupyter.widget-view+json": {
       "model_id": "0f579a7cd9d8460c9d8a9b51324bf9e8",
       "version_major": 2,
       "version_minor": 0
      },
      "text/plain": [
       "HBox(children=(FloatProgress(value=0.0, bar_style='info', description='Preprocessing', style=ProgressStyle(des…"
      ]
     },
     "metadata": {},
     "output_type": "display_data"
    },
    {
     "data": {
      "application/vnd.jupyter.widget-view+json": {
       "model_id": "84de6ddef2c84a1891af44e41934a780",
       "version_major": 2,
       "version_minor": 0
      },
      "text/plain": [
       "HBox(children=(FloatProgress(value=0.0, bar_style='info', description='Inference', style=ProgressStyle(descrip…"
      ]
     },
     "metadata": {},
     "output_type": "display_data"
    },
    {
     "data": {
      "application/vnd.jupyter.widget-view+json": {
       "model_id": "74374cf187ab4e8783abd56d8378ab0e",
       "version_major": 2,
       "version_minor": 0
      },
      "text/plain": [
       "HBox(children=(FloatProgress(value=0.0, bar_style='info', description='Rendering', style=ProgressStyle(descrip…"
      ]
     },
     "metadata": {},
     "output_type": "display_data"
    }
   ],
   "source": [
    "#Submit job to the queue\n",
    "job_id_core_cpu_fp32 = !qsub object_detection_job.sh -l nodes=1:idc002mx8 -F \"results/core_cpu_fp32/ CPU FP32 {InputVideo} {NumRequests_CPU}\" -N obj_det_core -v VENV_PATH,OPENVINO_RUNTIME\n",
    "print(job_id_core_cpu_fp32[0])\n",
    "#Progress indicators\n",
    "if job_id_core_cpu_fp32:\n",
    "    progressIndicator('results/core_cpu_fp32', f'pre_progress_{job_id_core_cpu_fp32[0]}.txt', \"Preprocessing\", 0, 100)\n",
    "    progressIndicator('results/core_cpu_fp32', f'i_progress_{job_id_core_cpu_fp32[0]}.txt', \"Inference\", 0, 100)\n",
    "    progressIndicator('results/core_cpu_fp32', f'post_progress_{job_id_core_cpu_fp32[0]}.txt', \"Rendering\", 0, 100)"
   ]
  },
  {
   "cell_type": "code",
   "execution_count": 12,
   "metadata": {},
   "outputs": [
    {
     "data": {
      "text/html": [
       "<h2>Intel Core CPU</h2>\n",
       "    <p>3000 \n",
       " frames processed in 37.5 \n",
       " seconds</p>\n",
       "    <video alt=\"\" controls autoplay muted height=\"480\"><source src=\"results/core_cpu_fp32/output_469225.v-qsvr-1.devcloud-edge.mp4\" type=\"video/mp4\" /></video>\n",
       "    "
      ],
      "text/plain": [
       "<IPython.core.display.HTML object>"
      ]
     },
     "execution_count": 12,
     "metadata": {},
     "output_type": "execute_result"
    }
   ],
   "source": [
    "videoHTML('Intel Core CPU', \n",
    "          [f'results/core_cpu_fp32/output_{job_id_core_cpu_fp32[0]}.mp4'],f'results/core_cpu_fp32/stats_{job_id_core_cpu_fp32[0]}.txt')"
   ]
  },
  {
   "cell_type": "markdown",
   "metadata": {},
   "source": [
    "#### Post-Training Optimization Tool Usage Menu"
   ]
  },
  {
   "cell_type": "markdown",
   "metadata": {},
   "source": [
    "#### Convert mobilenet-ssd FP32 IR to INT8 IR"
   ]
  },
  {
   "cell_type": "code",
   "execution_count": 13,
   "metadata": {},
   "outputs": [
    {
     "name": "stdout",
     "output_type": "stream",
     "text": [
      "usage: pot [-h] [-c CONFIG] [-q {default,accuracy_aware}]\n",
      "           [--preset {performance,mixed}] [-m MODEL] [-w WEIGHTS]\n",
      "           [--name NAME] [--engine {accuracy_checker,simplified}]\n",
      "           [--ac-config AC_CONFIG] [--max-drop MAX_DROP] [-e]\n",
      "           [--output-dir OUTPUT_DIR] [-d]\n",
      "           [--log-level {CRITICAL,ERROR,WARNING,INFO,DEBUG}] [--progress-bar]\n",
      "           [--stream-output] [--keep-uncompressed-weights]\n",
      "           [--data-source DATA_SOURCE]\n",
      "\n",
      "Post-training Compression Toolkit\n",
      "\n",
      "optional arguments:\n",
      "  -h, --help            show this help message and exit\n",
      "  -c CONFIG, --config CONFIG\n",
      "                        Path to a config file with optimization parameters.\n",
      "                        Overrides \"-q | -m | -w | --ac-config | --engine\"\n",
      "                        options\n",
      "  -q {default,accuracy_aware}, --quantize {default,accuracy_aware}\n",
      "                        Quantize model to 8 bits with specified quantization\n",
      "                        method: default | accuracy_aware\n",
      "  --preset {performance,mixed}\n",
      "                        Use \"performance\" for fully symmetric quantization or\n",
      "                        \"mixed\" preset for symmetric quantization of weight\n",
      "                        and asymmetric quantization of activations. Applicable\n",
      "                        only when -q option is used.\n",
      "  -m MODEL, --model MODEL\n",
      "                        Path to the model file (.xml). Applicable only when -q\n",
      "                        option is used.\n",
      "  -w WEIGHTS, --weights WEIGHTS\n",
      "                        Path to the weights file (.bin). Applicable only when\n",
      "                        -q option is used.\n",
      "  --name NAME, -n NAME  Model name. Applicable only when -q option is used.\n",
      "  --engine {accuracy_checker,simplified}\n",
      "                        Engine type. Default: `accuracy_checker`\n",
      "  --ac-config AC_CONFIG\n",
      "                        Path to the Accuracy Checker configuration file.\n",
      "                        Applicable only when -q option is used.\n",
      "  --max-drop MAX_DROP   Maximum accuracy drop. Valid only for accuracy-aware\n",
      "                        quantization. Applicable only when -q option is used.\n",
      "  -e, --evaluate        Whether to evaluate model on whole dataset\n",
      "  --output-dir OUTPUT_DIR\n",
      "                        The directory where models are saved. Default:\n",
      "                        ./results\n",
      "  -d, --direct-dump     Flag to save files without sub folders with algo names\n",
      "  --log-level {CRITICAL,ERROR,WARNING,INFO,DEBUG}\n",
      "                        Log level to print\n",
      "  --progress-bar        Disable CL logging and enable progress bar\n",
      "  --stream-output       Switch progress display to a multiline mode\n",
      "  --keep-uncompressed-weights\n",
      "                        Keep Convolution, Deconvolution and FullyConnected\n",
      "                        weights uncompressed\n",
      "  --data-source DATA_SOURCE\n",
      "                        Valid only for Simplified modes. Path to dataset dir\n",
      "                        is required.\n"
     ]
    }
   ],
   "source": [
    "!pot -h"
   ]
  },
  {
   "cell_type": "code",
   "execution_count": 14,
   "metadata": {
    "scrolled": true
   },
   "outputs": [
    {
     "name": "stdout",
     "output_type": "stream",
     "text": [
      "INFO:openvino.tools.pot.app.run:Output log dir: models/mobilenet-ssd/INT8/\n",
      "INFO:openvino.tools.pot.app.run:Creating pipeline:\n",
      " Algorithm: DefaultQuantization\n",
      " Parameters:\n",
      "\tstat_subset_size           : 10\n",
      "\ttarget_device              : CPU\n",
      "\tpreset                     : performance\n",
      "\tmodel_type                 : None\n",
      "\tdump_intermediate_model    : False\n",
      "\tinplace_statistics         : True\n",
      "\texec_log_dir               : models/mobilenet-ssd/INT8/\n",
      " ===========================================================================\n",
      "IE version: 2022.1.0-7009-19bdd019745-refs/pull/1012/head\n",
      "Loaded CPU plugin version:\n",
      "    CPU - openvino_intel_cpu_plugin: 2022.1.2022.1.0-7009-19bdd019745-refs/pull/1012/head\n",
      "Annotation conversion for VOC2012 dataset has been started\n",
      "Parameters to be used for conversion:\n",
      "converter: voc_detection\n",
      "annotations_dir: dataset/VOCdevkit/VOC2012/Annotations\n",
      "images_dir: dataset/VOCdevkit/VOC2012/JPEGImages\n",
      "imageset_file: dataset/VOCdevkit/VOC2012/ImageSets/Main/val.txt\n",
      "Annotation conversion for VOC2012 dataset has been finished\n",
      "INFO:openvino.tools.pot.pipeline.pipeline:Inference Engine version:                2022.1.0-7009-19bdd019745-refs/pull/1012/head\n",
      "INFO:openvino.tools.pot.pipeline.pipeline:Model Optimizer version:                 2022.1.0-7009-19bdd019745-refs/pull/1012/head\n",
      "INFO:openvino.tools.pot.pipeline.pipeline:Post-Training Optimization Tool version: 2022.1.0-7009-19bdd019745-refs/pull/1012/head\n",
      "INFO:openvino.tools.pot.statistics.collector:Start computing statistics for algorithms : DefaultQuantization\n",
      "INFO:openvino.tools.pot.statistics.collector:Computing statistics finished\n",
      "INFO:openvino.tools.pot.pipeline.pipeline:Start algorithm: DefaultQuantization\n",
      "INFO:openvino.tools.pot.algorithms.quantization.default.algorithm:Start computing statistics for algorithm : ActivationChannelAlignment\n",
      "INFO:openvino.tools.pot.algorithms.quantization.default.algorithm:Computing statistics finished\n",
      "INFO:openvino.tools.pot.algorithms.quantization.default.algorithm:Start computing statistics for algorithms : MinMaxQuantization,FastBiasCorrection\n",
      "INFO:openvino.tools.pot.algorithms.quantization.default.algorithm:Computing statistics finished\n",
      "INFO:openvino.tools.pot.pipeline.pipeline:Finished: DefaultQuantization\n",
      " ===========================================================================\n"
     ]
    }
   ],
   "source": [
    "!pot -c config/mobilenet-ssd.yml --output-dir models/mobilenet-ssd/INT8/ -d "
   ]
  },
  {
   "cell_type": "code",
   "execution_count": 15,
   "metadata": {},
   "outputs": [
    {
     "name": "stdout",
     "output_type": "stream",
     "text": [
      "469227.v-qsvr-1.devcloud-edge\n"
     ]
    },
    {
     "data": {
      "application/vnd.jupyter.widget-view+json": {
       "model_id": "88a03e09930b40bd96d7593aaa9c772b",
       "version_major": 2,
       "version_minor": 0
      },
      "text/plain": [
       "HBox(children=(FloatProgress(value=0.0, bar_style='info', description='Preprocessing', style=ProgressStyle(des…"
      ]
     },
     "metadata": {},
     "output_type": "display_data"
    },
    {
     "data": {
      "application/vnd.jupyter.widget-view+json": {
       "model_id": "5e46d9634b284e6a9044c5d750b393ad",
       "version_major": 2,
       "version_minor": 0
      },
      "text/plain": [
       "HBox(children=(FloatProgress(value=0.0, bar_style='info', description='Inference', style=ProgressStyle(descrip…"
      ]
     },
     "metadata": {},
     "output_type": "display_data"
    },
    {
     "data": {
      "application/vnd.jupyter.widget-view+json": {
       "model_id": "2a184e324d95483e92150fb7602dc696",
       "version_major": 2,
       "version_minor": 0
      },
      "text/plain": [
       "HBox(children=(FloatProgress(value=0.0, bar_style='info', description='Rendering', style=ProgressStyle(descrip…"
      ]
     },
     "metadata": {},
     "output_type": "display_data"
    }
   ],
   "source": [
    "#Submit job to the queue\n",
    "job_id_core_cpu_int8 = !qsub object_detection_job.sh -l nodes=1:idc002mx8 -F \"results/core_cpu_int8/ CPU INT8/optimized {InputVideo} {NumRequests_CPU}\" -N obj_det_core -v VENV_PATH,OPENVINO_RUNTIME\n",
    "print(job_id_core_cpu_int8[0])\n",
    "#Progress indicators\n",
    "if job_id_core_cpu_int8:\n",
    "    progressIndicator('results/core_cpu_int8', f'pre_progress_{job_id_core_cpu_int8[0]}.txt', \"Preprocessing\", 0, 100)\n",
    "    progressIndicator('results/core_cpu_int8', f'i_progress_{job_id_core_cpu_int8[0]}.txt', \"Inference\", 0, 100)\n",
    "    progressIndicator('results/core_cpu_int8', f'post_progress_{job_id_core_cpu_int8[0]}.txt', \"Rendering\", 0, 100)"
   ]
  },
  {
   "cell_type": "code",
   "execution_count": 18,
   "metadata": {},
   "outputs": [
    {
     "data": {
      "text/html": [
       "<h2>Intel Core CPU</h2>\n",
       "    <p>3000 \n",
       " frames processed in 25.5 \n",
       " seconds</p>\n",
       "    <video alt=\"\" controls autoplay muted height=\"480\"><source src=\"results/core_cpu_int8/output_469227.v-qsvr-1.devcloud-edge.mp4\" type=\"video/mp4\" /></video>\n",
       "    "
      ],
      "text/plain": [
       "<IPython.core.display.HTML object>"
      ]
     },
     "execution_count": 18,
     "metadata": {},
     "output_type": "execute_result"
    }
   ],
   "source": [
    "videoHTML('Intel Core CPU', \n",
    "          [f'results/core_cpu_int8/output_{job_id_core_cpu_int8[0]}.mp4'],f'results/core_cpu_int8/stats_{job_id_core_cpu_int8[0]}.txt')"
   ]
  },
  {
   "cell_type": "code",
   "execution_count": 19,
   "metadata": {},
   "outputs": [
    {
     "name": "stdout",
     "output_type": "stream",
     "text": [
      "469231.v-qsvr-1.devcloud-edge\n"
     ]
    },
    {
     "data": {
      "application/vnd.jupyter.widget-view+json": {
       "model_id": "6cd8e2439447432abdd678b37ba63403",
       "version_major": 2,
       "version_minor": 0
      },
      "text/plain": [
       "HBox(children=(FloatProgress(value=0.0, bar_style='info', description='Preprocessing', style=ProgressStyle(des…"
      ]
     },
     "metadata": {},
     "output_type": "display_data"
    },
    {
     "data": {
      "application/vnd.jupyter.widget-view+json": {
       "model_id": "ba48a598029240009a304c3eb92d70e9",
       "version_major": 2,
       "version_minor": 0
      },
      "text/plain": [
       "HBox(children=(FloatProgress(value=0.0, bar_style='info', description='Inference', style=ProgressStyle(descrip…"
      ]
     },
     "metadata": {},
     "output_type": "display_data"
    },
    {
     "data": {
      "application/vnd.jupyter.widget-view+json": {
       "model_id": "c93b6cb39ff3479186009b2c223fe049",
       "version_major": 2,
       "version_minor": 0
      },
      "text/plain": [
       "HBox(children=(FloatProgress(value=0.0, bar_style='info', description='Rendering', style=ProgressStyle(descrip…"
      ]
     },
     "metadata": {},
     "output_type": "display_data"
    }
   ],
   "source": [
    "#Submit job to the queue\n",
    "job_id_core_gpu_fp16 = !qsub object_detection_job.sh -l nodes=1:idc002mx8 -F \"results/core_gpu_fp16/ GPU FP16 {InputVideo} {NumRequests_GPU}\" -N obj_det_core -v VENV_PATH,OPENVINO_RUNTIME\n",
    "print(job_id_core_gpu_fp16[0])\n",
    "#Progress indicators\n",
    "if job_id_core_gpu_fp16:\n",
    "    progressIndicator('results/core_gpu_fp16', f'pre_progress_{job_id_core_gpu_fp16[0]}.txt', \"Preprocessing\", 0, 100)\n",
    "    progressIndicator('results/core_gpu_fp16', f'i_progress_{job_id_core_gpu_fp16[0]}.txt', \"Inference\", 0, 100)\n",
    "    progressIndicator('results/core_gpu_fp16', f'post_progress_{job_id_core_gpu_fp16[0]}.txt', \"Rendering\", 0, 100)"
   ]
  },
  {
   "cell_type": "code",
   "execution_count": 20,
   "metadata": {},
   "outputs": [
    {
     "name": "stdout",
     "output_type": "stream",
     "text": [
      "469232.v-qsvr-1.devcloud-edge\n"
     ]
    },
    {
     "data": {
      "application/vnd.jupyter.widget-view+json": {
       "model_id": "b167aa18a4444a8f9e22df4b77fc20cf",
       "version_major": 2,
       "version_minor": 0
      },
      "text/plain": [
       "HBox(children=(FloatProgress(value=0.0, bar_style='info', description='Preprocessing', style=ProgressStyle(des…"
      ]
     },
     "metadata": {},
     "output_type": "display_data"
    },
    {
     "data": {
      "application/vnd.jupyter.widget-view+json": {
       "model_id": "9c6959316b7f4219b404d6cbb45bc590",
       "version_major": 2,
       "version_minor": 0
      },
      "text/plain": [
       "HBox(children=(FloatProgress(value=0.0, bar_style='info', description='Inference', style=ProgressStyle(descrip…"
      ]
     },
     "metadata": {},
     "output_type": "display_data"
    },
    {
     "data": {
      "application/vnd.jupyter.widget-view+json": {
       "model_id": "68d48cf9be794f93b217b3a3131b7cec",
       "version_major": 2,
       "version_minor": 0
      },
      "text/plain": [
       "HBox(children=(FloatProgress(value=0.0, bar_style='info', description='Rendering', style=ProgressStyle(descrip…"
      ]
     },
     "metadata": {},
     "output_type": "display_data"
    }
   ],
   "source": [
    "#Submit job to the queue\n",
    "job_id_core_hddl_fp16 = !qsub object_detection_job.sh -l nodes=1:idc002mx8 -F \"results/core_hddl_fp16/ HDDL FP16 {InputVideo} {NumRequests_HDDLR}\" -N obj_det_ncs2 -v VENV_PATH,OPENVINO_RUNTIME\n",
    "print(job_id_core_hddl_fp16[0])\n",
    "#Progress indicators\n",
    "if job_id_core_hddl_fp16:\n",
    "    progressIndicator('results/core_hddl_fp16', f'pre_progress_{job_id_core_hddl_fp16[0]}.txt', \"Preprocessing\", 0, 100)\n",
    "    progressIndicator('results/core_hddl_fp16', f'i_progress_{job_id_core_hddl_fp16[0]}.txt', \"Inference\", 0, 100)\n",
    "    progressIndicator('results/core_hddl_fp16', f'post_progress_{job_id_core_hddl_fp16[0]}.txt', \"Rendering\", 0, 100)"
   ]
  },
  {
   "cell_type": "code",
   "execution_count": 21,
   "metadata": {},
   "outputs": [
    {
     "name": "stdout",
     "output_type": "stream",
     "text": [
      "469233.v-qsvr-1.devcloud-edge\n"
     ]
    },
    {
     "data": {
      "application/vnd.jupyter.widget-view+json": {
       "model_id": "4a201ddad93b46c895be7eb0b34b74fa",
       "version_major": 2,
       "version_minor": 0
      },
      "text/plain": [
       "HBox(children=(FloatProgress(value=0.0, bar_style='info', description='Preprocessing', style=ProgressStyle(des…"
      ]
     },
     "metadata": {},
     "output_type": "display_data"
    },
    {
     "data": {
      "application/vnd.jupyter.widget-view+json": {
       "model_id": "76585ebfb7914dca8652d159ccb57b42",
       "version_major": 2,
       "version_minor": 0
      },
      "text/plain": [
       "HBox(children=(FloatProgress(value=0.0, bar_style='info', description='Inference', style=ProgressStyle(descrip…"
      ]
     },
     "metadata": {},
     "output_type": "display_data"
    },
    {
     "data": {
      "application/vnd.jupyter.widget-view+json": {
       "model_id": "93ec4778ad9b44fa84334ccba20833df",
       "version_major": 2,
       "version_minor": 0
      },
      "text/plain": [
       "HBox(children=(FloatProgress(value=0.0, bar_style='info', description='Rendering', style=ProgressStyle(descrip…"
      ]
     },
     "metadata": {},
     "output_type": "display_data"
    }
   ],
   "source": [
    "#Submit job to the queue\n",
    "job_id_core_multi_fp16 = !qsub object_detection_job.sh -l nodes=1:idc002mx8 -F \"results/core_multi_fp16/ MULTI:GPU,CPU FP16 {InputVideo} {NumRequests_CPU}\" -N obj_det_core -v VENV_PATH,OPENVINO_RUNTIME\n",
    "print(job_id_core_multi_fp16[0])\n",
    "#Progress indicators\n",
    "if job_id_core_multi_fp16:\n",
    "    progressIndicator('results/core_multi_fp16', f'pre_progress_{job_id_core_multi_fp16[0]}.txt', \"Preprocessing\", 0, 100)\n",
    "    progressIndicator('results/core_multi_fp16', f'i_progress_{job_id_core_multi_fp16[0]}.txt', \"Inference\", 0, 100)\n",
    "    progressIndicator('results/core_multi_fp16', f'post_progress_{job_id_core_multi_fp16[0]}.txt', \"Rendering\", 0, 100)"
   ]
  },
  {
   "cell_type": "markdown",
   "metadata": {},
   "source": [
    "##### Submit to an edge compute node with Intel® Atom® and using the integrated Intel® GPU\n",
    "In the cell below, we submit a job to an edge node with an [Intel® Atom® x7-E3950](https://ark.intel.com/products/96488/Intel-Atom-x7-E3950-Processor-2M-Cache-up-to-2-00-GHz.html) processor. The inference workload will run on the integrated Intel® HD Graphics 505 GPU."
   ]
  },
  {
   "cell_type": "markdown",
   "metadata": {},
   "source": [
    "### Monitor job status\n",
    "\n",
    "To check the status of the jobs that have been submitted, use the `qstat` command.  The custom Jupyter* Notebook widget `liveQstat()` is provided to display the output of `qstat` with live updates.  \n",
    "\n",
    "Run the following cell to display the current job status with periodic updates. "
   ]
  },
  {
   "cell_type": "code",
   "execution_count": 22,
   "metadata": {},
   "outputs": [
    {
     "data": {
      "application/vnd.jupyter.widget-view+json": {
       "model_id": "37e4ee1c161f41fd98e06d7e8134c420",
       "version_major": 2,
       "version_minor": 0
      },
      "text/plain": [
       "Output(layout=Layout(border='1px solid gray', height='200px', overflow_y='auto', width='100%'))"
      ]
     },
     "metadata": {},
     "output_type": "display_data"
    },
    {
     "data": {
      "application/vnd.jupyter.widget-view+json": {
       "model_id": "01c9ffdd20fe49b9b644aa1cc7711852",
       "version_major": 2,
       "version_minor": 0
      },
      "text/plain": [
       "Button(description='Stop', style=ButtonStyle())"
      ]
     },
     "metadata": {},
     "output_type": "display_data"
    }
   ],
   "source": [
    "liveQstat()"
   ]
  },
  {
   "cell_type": "markdown",
   "metadata": {},
   "source": [
    "You should see the jobs that you have submitted (referenced by the `JobID` that gets displayed right after you submit the jobs in the previous step).\n",
    "There should also be an extra job in the queue named `jupyterhub-singleuser`: this job is your current Jupyter* Notebook session which is always running.\n",
    "\n",
    "The `S` column shows the current status of each job: \n",
    "- If the status is `Q`, then the job is queued and waiting for available resources\n",
    "- If ste status is `R`, then the job is running\n",
    "- If the job is no longer listed, then the job has completed\n",
    "\n",
    "<br><div class=note><i><b>\n",
    "Note: The amount of time spent in the queue depends on the number of users accessing the requested compute nodes. Once the jobs for this sample application begin to run, they should take from 1 to 5 minutes each to complete.\n",
    "</b></i></div>"
   ]
  },
  {
   "cell_type": "markdown",
   "metadata": {},
   "source": [
    "<br><div class=danger><b>Wait!: </b>Please wait for the inference jobs and video rendering to complete before proceeding to the next step to view results.</div>\n",
    "\n",
    "### View results\n",
    "\n",
    "Once the jobs have completed, the queue system outputs the stdout and stderr streams of each job into files with names of the forms <*JobName*>.o<*JobID*> and <*JobName*>.e<*JobID*>, respecitvely.  The *JobName* corresponds to the `-N` option when submitting the job using the `qsub` command.  \n",
    "\n",
    "The output video file for each job is written to the file `output_{job_id}.mp4` located in the directory `results/<device>` that was specified as the output directory to the job file.  We will now use the `videoHTML()` utility to display the output video files within this Jupyter* notebook.  Calling `videoHTML()` from a Python* cell follows the form:\n",
    "```python\n",
    "videoHTML(title, [list_of_video_files], statistics(optional))\n",
    "```\n",
    "The parameters are:\n",
    "- *title* - Title to put at the top of the displayed output\n",
    "- \\[*list_of_video_files*\\] - Python* list of video files to display\n",
    "- *statistics(optional)* - Optional statistics file containing the number of seconds it took to process a number of frames\n",
    "\n",
    "Run the cells below to display the videos.\n"
   ]
  },
  {
   "cell_type": "markdown",
   "metadata": {},
   "source": [
    "##### View results from an Intel® CPU"
   ]
  },
  {
   "cell_type": "markdown",
   "metadata": {},
   "source": [
    "### View and assess performance results\n",
    "\n",
    "The running time of each inference task is recorded in `results/<device>/stats.txt`. Run the cell below to plot the results of all jobs side-by-side. Lower values mean better performance for **Inference Engine Processing Time** and higher values mean better performance for **Inference Engine FPS**. When comparing results, please keep in mind that some architectures are optimized for highest performance, others for low power or other metrics."
   ]
  },
  {
   "cell_type": "code",
   "execution_count": 26,
   "metadata": {},
   "outputs": [
    {
     "data": {
      "image/png": "[encoded data removed]",
      "text/plain": [
       "<Figure size 1080x576 with 1 Axes>"
      ]
     },
     "metadata": {
      "needs_background": "light"
     },
     "output_type": "display_data"
    },
    {
     "data": {
      "application/vnd.jupyter.widget-view+json": {
       "model_id": "3bf3fd8aa0f34ae88933852729593818",
       "version_major": 2,
       "version_minor": 0
      },
      "text/plain": [
       "HTML(value=\"Benchmark results published by Intel or appearing on the Intel® DevCloud for the Edge website are …"
      ]
     },
     "metadata": {},
     "output_type": "display_data"
    },
    {
     "data": {
      "image/png": "[encoded data removed]",
      "text/plain": [
       "<Figure size 1080x576 with 1 Axes>"
      ]
     },
     "metadata": {
      "needs_background": "light"
     },
     "output_type": "display_data"
    },
    {
     "data": {
      "application/vnd.jupyter.widget-view+json": {
       "model_id": "e960422ac0db4804bb941d7340956a0f",
       "version_major": 2,
       "version_minor": 0
      },
      "text/plain": [
       "HTML(value=\"Benchmark results published by Intel or appearing on the Intel® DevCloud for the Edge website are …"
      ]
     },
     "metadata": {},
     "output_type": "display_data"
    }
   ],
   "source": [
    "# Create table of <architecture>, <title> for plotting\n",
    "arch_list = [('core_cpu_fp32', 'intel-core,i5-6500te\\nCPU_FP32'),\n",
    "             ('core_cpu_int8', 'intel-core,i5-6500te\\nCPU_INT8'),\n",
    "             ('core_gpu_fp16', 'intel-core,i5-6500te\\nGPU_FP16'),\n",
    "             ('core_hddl_fp16', 'intel-core,i5-6500te\\nHDDL_FP16'),\n",
    "             ('core_multi_fp16', 'intel-core,i5-6500te\\nMULTI_FP16')]\n",
    "          \n",
    "# For each archtecture in table, create path to stats file or placeholder \n",
    "stats_list = []\n",
    "for arch, a_name in arch_list:\n",
    "    # if job_id_<architecture> exists, the job was run and has a stats file\n",
    "    if 'job_id_'+arch in vars():\n",
    "        stats_list.append((f'results/{arch}/stats_{vars()[\"job_id_\"+arch][0]}.txt', a_name))\n",
    "    else:\n",
    "        stats_list.append(('placeholder'+arch, a_name))\n",
    "\n",
    "# Plot the execution time from the stats files\n",
    "summaryPlot(stats_list, 'Architecture', 'Time, seconds', 'Inference Engine Processing Time', 'time')\n",
    "# Plot the frames per second from the stats files\n",
    "summaryPlot(stats_list, 'Architecture', 'Frames per second', 'Inference Engine FPS', 'fps')"
   ]
  },
  {
   "cell_type": "code",
   "execution_count": 24,
   "metadata": {},
   "outputs": [
    {
     "name": "stdout",
     "output_type": "stream",
     "text": [
      "[('results/core_cpu_fp32/stats_469225.v-qsvr-1.devcloud-edge.txt', 'intel-core,i5-6500te\\nCPU_FP32'), ('results/core_cpu_int8/stats_469227.v-qsvr-1.devcloud-edge.txt', 'intel-core,i5-6500te\\nCPU_INT8'), ('results/core_gpu_fp16/stats_469231.v-qsvr-1.devcloud-edge.txt', 'intel-core,i5-6500te\\nGPU_FP16'), ('results/core_hddl_fp16/stats_469232.v-qsvr-1.devcloud-edge.txt', 'intel-core,i5-6500te\\nHDDL_FP16'), ('results/core_multi_fp16/stats_469233.v-qsvr-1.devcloud-edge.txt', 'intel-core,i5-6500te\\nMULTI_FP16')]\n"
     ]
    }
   ],
   "source": [
    "print(stats_list)"
   ]
  },
  {
   "cell_type": "markdown",
   "metadata": {},
   "source": [
    "## Telemetry Dashboard\n",
    "Once your submitted jobs are completed, run the cells below to view telemetry dashboards containing performance metrics for your model and target architecture.\n"
   ]
  },
  {
   "cell_type": "code",
   "execution_count": 25,
   "metadata": {},
   "outputs": [
    {
     "data": {
      "text/html": [
       "<a target='_blank' href='https://devcloud.intel.com/edge/metrics/d/469225'> Click here to view telemetry dashboard of the last job ran on Intel® Core™ i5-6500TE</a>"
      ],
      "text/plain": [
       "<IPython.core.display.HTML object>"
      ]
     },
     "metadata": {},
     "output_type": "display_data"
    }
   ],
   "source": [
    "link_t = \"<a target='_blank' href='{href}'> Click here to view telemetry dashboard of the last job ran on Intel® Core™ i5-6500TE</a>\"\n",
    "\n",
    "result_file = \"https://devcloud.intel.com/edge/metrics/d/\" + job_id_core_cpu_fp32[0].split('.')[0]\n",
    "\n",
    "html = HTML(link_t.format(href=result_file))\n",
    "\n",
    "display(html)"
   ]
  },
  {
   "cell_type": "markdown",
   "metadata": {},
   "source": [
    "## Next steps\n",
    "- [More Jupyter* Notebook Samples](https://devcloud.intel.com/edge/advanced/sample_applications/) - additional sample applications \n",
    "- [Jupyter* Notebook Tutorials](https://devcloud.intel.com/edge/get_started/tutorials) - sample application Jupyter* Notebook tutorials\n",
    "- [Intel® Distribution of OpenVINO™ toolkit Main Page](https://software.intel.com/openvino-toolkit) - learn more about the tools and use of the Intel® Distribution of OpenVINO™ toolkit for implementing inference on the edge\n"
   ]
  },
  {
   "cell_type": "markdown",
   "metadata": {},
   "source": [
    "## About this notebook\n",
    "\n",
    "For technical support, please see the [Intel® DevCloud Forums](https://software.intel.com/en-us/forums/intel-devcloud-for-edge)"
   ]
  },
  {
   "cell_type": "markdown",
   "metadata": {},
   "source": [
    "<p style=background-color:#0071C5;color:white;padding:0.5em;display:table-cell;width:100pc;vertical-align:middle>\n",
    "<img style=float:right src=\"https://devcloud.intel.com/edge/static/images/svg/IDZ_logo.svg\" alt=\"Intel DevCloud logo\" width=\"150px\"/>\n",
    "<a style=color:white>Intel® DevCloud for the Edge</a><br>   \n",
    "<a style=color:white href=\"#top\">Top of Page</a> | \n",
    "<a style=color:white href=\"https://devcloud.intel.com/edge/static/docs/terms/Intel-DevCloud-for-the-Edge-Usage-Agreement.pdf\">Usage Agreement (Intel)</a> | \n",
    "<a style=color:white href=\"https://devcloud.intel.com/edge/static/docs/terms/Colfax_Cloud_Service_Terms_v1.3.pdf\">Service Terms (Colfax)</a>\n",
    "</p>"
   ]
  }
 ],
 "metadata": {
  "kernelspec": {
   "display_name": "Python3 (OpenVINO 2022.1 + TensorFlow 1.15.1)",
   "language": "python",
   "name": "openvino_2022.1.0-tensorflow_1.15.5"
  },
  "language_info": {
   "codemirror_mode": {
    "name": "ipython",
    "version": 3
   },
   "file_extension": ".py",
   "mimetype": "text/x-python",
   "name": "python",
   "nbconvert_exporter": "python",
   "pygments_lexer": "ipython3",
   "version": "3.6.9"
  },
  "nbTranslate": {
   "displayLangs": [
    "*"
   ],
   "hotkey": "alt-t",
   "langInMainMenu": true,
   "sourceLang": "en",
   "targetLang": "fr",
   "useGoogleTranslate": true
  },
  "toc": {
   "base_numbering": 1,
   "nav_menu": {},
   "number_sections": true,
   "sideBar": true,
   "skip_h1_title": true,
   "title_cell": "Table of Contents",
   "title_sidebar": "Contents",
   "toc_cell": false,
   "toc_position": {
    "height": "calc(100% - 180px)",
    "left": "10px",
    "top": "150px",
    "width": "675px"
   },
   "toc_section_display": true,
   "toc_window_display": true
  },
  "widgets": {
   "application/vnd.jupyter.widget-state+json": {
    "state": {},
    "version_major": 2,
    "version_minor": 0
   }
  }
 },
 "nbformat": 4,
 "nbformat_minor": 4
}
