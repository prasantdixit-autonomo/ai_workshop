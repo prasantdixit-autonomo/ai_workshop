{
 "cells": [
  {
   "cell_type": "markdown",
   "id": "artificial-discretion",
   "metadata": {
    "tags": []
   },
   "source": [
    "# Working with Open Model Zoo Models\n",
    "This tutorial shows how to download a model from the [Open Model Zoo](https://github.com/openvinotoolkit/open_model_zoo), convert it to OpenVINO's IR format, show information about the model, and benchmark the model."
   ]
  },
  {
   "cell_type": "markdown",
   "id": "c4dda33e",
   "metadata": {
    "jp-MarkdownHeadingCollapsed": true,
    "tags": []
   },
   "source": [
    "## OpenVINO and Open Model Zoo Tools\n",
    "\n",
    "The OpenVINO and Open Model Zoo tools are listed in the table below.\n",
    "\n",
    "| Tool             | Command             | Description                                             |\n",
    "|:-----------------|:--------------------|:--------------------------------------------------------|\n",
    "| Model Downloader | omz_downloader      | Download models from Open Model Zoo                     |\n",
    "| Model Converter  | omz_converter       | Convert Open Model Zoo models to OpenVINO's IR format   |\n",
    "| Info Dumper      | omz_info_dumper     | Print information about Open Model Zoo models           |\n",
    "| Benchmark Tool   | benchmark_app       | Benchmark model performance by computing inference time |"
   ]
  },
  {
   "cell_type": "markdown",
   "id": "judicial-preview",
   "metadata": {},
   "source": [
    "## Preperation\n",
    "\n"
   ]
  },
  {
   "cell_type": "markdown",
   "id": "a3c2dfff-d594-42b3-94fd-70b9726b48ea",
   "metadata": {},
   "source": [
    "### Install OpenVINO dev-tools in order to use them on your local machine\n",
    "### **NOTE: Below command is not required if you are on Devcloud**"
   ]
  },
  {
   "cell_type": "code",
   "execution_count": null,
   "id": "1ef9f3b7-aea9-4ea2-a3d2-1a137f5f51e7",
   "metadata": {
    "scrolled": true,
    "tags": []
   },
   "outputs": [],
   "source": [
    "## Use below command to download openvino latest version with devtools \n",
    "!pip install openvino-dev[onnx,pytorch,mxnet,kaldi,caffe,tensorflow2]==2022.1.0"
   ]
  },
  {
   "cell_type": "markdown",
   "id": "665320ef-01ad-457b-a153-92ba5af98269",
   "metadata": {},
   "source": [
    "## Download Model from Open Model Zoo\n",
    "\n"
   ]
  },
  {
   "cell_type": "markdown",
   "id": "rising-interval",
   "metadata": {},
   "source": [
    "Specify, display and run the Model Downloader command to download the model"
   ]
  },
  {
   "cell_type": "code",
   "execution_count": null,
   "id": "df2b0446-0c49-41cf-9f3f-dec1232249f7",
   "metadata": {},
   "outputs": [],
   "source": [
    "## Uncomment the next line to show omz_downloader's help which explains the command line options\n",
    "!omz_downloader -h"
   ]
  },
  {
   "cell_type": "code",
   "execution_count": null,
   "id": "556d0c12-15cf-492d-a1ed-41dff5090eff",
   "metadata": {
    "scrolled": true,
    "tags": []
   },
   "outputs": [],
   "source": [
    "!omz_downloader --print_all"
   ]
  },
  {
   "cell_type": "code",
   "execution_count": null,
   "id": "f70642a4-fa3b-4e39-a525-ff03b25b4604",
   "metadata": {},
   "outputs": [],
   "source": [
    "!omz_downloader --name person-detection-retail-0013 -o ./models"
   ]
  },
  {
   "cell_type": "code",
   "execution_count": null,
   "id": "3ba159b7-df47-47b3-8640-75b95b341dc6",
   "metadata": {},
   "outputs": [],
   "source": [
    "!omz_downloader --name yolo-v3-tiny-tf -o ./models"
   ]
  },
  {
   "cell_type": "markdown",
   "id": "proprietary-checklist",
   "metadata": {},
   "source": [
    "## Convert Model to OpenVINO IR format\n",
    "\n",
    "Specify, display and run the Model Converter command to convert the model to IR format. Model Conversion may take a while. The output of the Model Converter command will be displayed. Conversion succeeded if the last lines of the output include `[ SUCCESS ] Generated IR version 11 model.` For downloaded models that are already in IR format, conversion will be skipped."
   ]
  },
  {
   "cell_type": "code",
   "execution_count": null,
   "id": "11fe7461-90db-4585-b55f-b3df42b01274",
   "metadata": {
    "tags": []
   },
   "outputs": [],
   "source": [
    "## Uncomment the next line to show omz_converter's help which explains the command line options\n",
    "!omz_converter --help"
   ]
  },
  {
   "cell_type": "code",
   "execution_count": null,
   "id": "51de2a0d-50d4-4f5e-a5d2-8282371b76a9",
   "metadata": {},
   "outputs": [],
   "source": [
    "!omz_converter --name yolo-v3-tiny-tf -d ./models"
   ]
  },
  {
   "cell_type": "markdown",
   "id": "aa8d655f-215d-4e3c-adcb-e8fd4a2e8ab4",
   "metadata": {},
   "source": [
    "## Get Model Information\n",
    "\n",
    "The Info Dumper prints the following information for Open Model Zoo models:\n",
    "\n",
    "* Model name\n",
    "* Description\n",
    "* Framework that was used to train the model\n",
    "* License URL\n",
    "* Precisions supported by the model\n",
    "* Subdirectory: the location of the downloaded model\n",
    "* Task type\n",
    "\n",
    "This information can be shown by running `omz_info_dumper --name model_name` in a terminal. The information can also be parsed and used in scripts. \n",
    "\n",
    "In the next cell, we run Info Dumper and use json to load the information in a dictionary. "
   ]
  },
  {
   "cell_type": "code",
   "execution_count": null,
   "id": "b8247daf-d3c5-4420-b4c8-d305ac4ace5b",
   "metadata": {},
   "outputs": [],
   "source": [
    "!omz_info_dumper -h"
   ]
  },
  {
   "cell_type": "markdown",
   "id": "7ea7e868-fd2d-4d11-9c87-7aa1f1301083",
   "metadata": {},
   "source": [
    "Having the model information in a JSON file allows us to extract the path to the model directory, and build the path to the IR file."
   ]
  }
 ],
 "metadata": {
  "interpreter": {
   "hash": "bc9b317d09174d2c31f34f506ea6004a876573d0732009f97d44018ebb6e02f6"
  },
  "kernelspec": {
   "display_name": "Python3 (OpenVINO 2022.1 + TensorFlow 1.15.1)",
   "language": "python",
   "name": "openvino_2022.1.0-tensorflow_1.15.5"
  },
  "language_info": {
   "codemirror_mode": {
    "name": "ipython",
    "version": 3
   },
   "file_extension": ".py",
   "mimetype": "text/x-python",
   "name": "python",
   "nbconvert_exporter": "python",
   "pygments_lexer": "ipython3",
   "version": "3.6.9"
  }
 },
 "nbformat": 4,
 "nbformat_minor": 5
}
